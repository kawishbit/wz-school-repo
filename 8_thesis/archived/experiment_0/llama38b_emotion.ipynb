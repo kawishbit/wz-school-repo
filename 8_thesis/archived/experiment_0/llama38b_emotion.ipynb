{
 "cells": [
  {
   "metadata": {},
   "cell_type": "markdown",
   "source": "# LLaMA 3 8B Text Classification Without QLoRA ",
   "id": "39a0ba12d8056425"
  },
  {
   "metadata": {
    "ExecuteTime": {
     "end_time": "2024-08-14T17:37:35.079258Z",
     "start_time": "2024-08-14T17:37:35.076144Z"
    }
   },
   "cell_type": "code",
   "source": [
    "import pandas as pd\n",
    "import torch\n",
    "import json\n",
    "import wandb\n",
    "from transformers import BitsAndBytesConfig, AutoModelForSequenceClassification, AutoTokenizer\n",
    "from peft import LoraConfig, prepare_model_for_kbit_training, get_peft_model\n",
    "from sklearn.metrics import accuracy_score, confusion_matrix\n",
    "from sklearn.metrics import classification_report\n",
    "from datasets import DatasetDict\n",
    "import datetime"
   ],
   "id": "7463d0d7c13ad577",
   "outputs": [],
   "execution_count": 15
  },
  {
   "metadata": {
    "ExecuteTime": {
     "end_time": "2024-08-14T17:37:50.525693Z",
     "start_time": "2024-08-14T17:37:35.116831Z"
    }
   },
   "cell_type": "code",
   "source": [
    "config_data = json.load(open('../config.json'))\n",
    "HF_TOKEN = config_data['HF_TOKEN']\n",
    "WANDB_TOKEN = config_data['WANDB_TOKEN']\n",
    "\n",
    "wandb.login(key=WANDB_TOKEN)\n",
    "\n",
    "run = wandb.init(\n",
    "    project='wz_llama_classifier',\n",
    "    config={\"model_name\": \"Meta-Llama-3-8B\"}\n",
    ")"
   ],
   "id": "1ebf604e71c6797b",
   "outputs": [
    {
     "name": "stderr",
     "output_type": "stream",
     "text": [
      "\u001B[34m\u001B[1mwandb\u001B[0m: \u001B[33mWARNING\u001B[0m Calling wandb.login() after wandb.init() has no effect.\n"
     ]
    },
    {
     "data": {
      "text/plain": [
       "<IPython.core.display.HTML object>"
      ],
      "text/html": [
       "Finishing last run (ID:gi49kosc) before initializing another..."
      ]
     },
     "metadata": {},
     "output_type": "display_data"
    },
    {
     "data": {
      "text/plain": [
       "VBox(children=(Label(value='0.001 MB of 0.001 MB uploaded\\r'), FloatProgress(value=1.0, max=1.0)))"
      ],
      "application/vnd.jupyter.widget-view+json": {
       "version_major": 2,
       "version_minor": 0,
       "model_id": "7699401b88884b4ea932c9a0dfbbc8a8"
      }
     },
     "metadata": {},
     "output_type": "display_data"
    },
    {
     "data": {
      "text/plain": [
       "<IPython.core.display.HTML object>"
      ],
      "text/html": [
       " View run <strong style=\"color:#cdcd00\">feasible-silence-4</strong> at: <a href='https://wandb.ai/kawishbit-org/wz_llama_classifier/runs/gi49kosc' target=\"_blank\">https://wandb.ai/kawishbit-org/wz_llama_classifier/runs/gi49kosc</a><br/> View project at: <a href='https://wandb.ai/kawishbit-org/wz_llama_classifier' target=\"_blank\">https://wandb.ai/kawishbit-org/wz_llama_classifier</a><br/>Synced 6 W&B file(s), 0 media file(s), 0 artifact file(s) and 0 other file(s)"
      ]
     },
     "metadata": {},
     "output_type": "display_data"
    },
    {
     "data": {
      "text/plain": [
       "<IPython.core.display.HTML object>"
      ],
      "text/html": [
       "Find logs at: <code>.\\wandb\\run-20240815_003554-gi49kosc\\logs</code>"
      ]
     },
     "metadata": {},
     "output_type": "display_data"
    },
    {
     "data": {
      "text/plain": [
       "<IPython.core.display.HTML object>"
      ],
      "text/html": [
       "The new W&B backend becomes opt-out in version 0.18.0; try it out with `wandb.require(\"core\")`! See https://wandb.me/wandb-core for more information."
      ]
     },
     "metadata": {},
     "output_type": "display_data"
    },
    {
     "data": {
      "text/plain": [
       "<IPython.core.display.HTML object>"
      ],
      "text/html": [
       "Successfully finished last run (ID:gi49kosc). Initializing new run:<br/>"
      ]
     },
     "metadata": {},
     "output_type": "display_data"
    },
    {
     "data": {
      "text/plain": [
       "VBox(children=(Label(value='Waiting for wandb.init()...\\r'), FloatProgress(value=0.011288888888925108, max=1.0…"
      ],
      "application/vnd.jupyter.widget-view+json": {
       "version_major": 2,
       "version_minor": 0,
       "model_id": "73144f94029c4d0f9c1ad29af294342c"
      }
     },
     "metadata": {},
     "output_type": "display_data"
    },
    {
     "data": {
      "text/plain": [
       "<IPython.core.display.HTML object>"
      ],
      "text/html": [
       "Tracking run with wandb version 0.17.6"
      ]
     },
     "metadata": {},
     "output_type": "display_data"
    },
    {
     "data": {
      "text/plain": [
       "<IPython.core.display.HTML object>"
      ],
      "text/html": [
       "Run data is saved locally in <code>E:\\repositories\\unirepo\\8_thesis\\experiment_1\\wandb\\run-20240815_003735-ucnf5id0</code>"
      ]
     },
     "metadata": {},
     "output_type": "display_data"
    },
    {
     "data": {
      "text/plain": [
       "<IPython.core.display.HTML object>"
      ],
      "text/html": [
       "Syncing run <strong><a href='https://wandb.ai/kawishbit-org/wz_llama_classifier/runs/ucnf5id0' target=\"_blank\">helpful-rain-5</a></strong> to <a href='https://wandb.ai/kawishbit-org/wz_llama_classifier' target=\"_blank\">Weights & Biases</a> (<a href='https://wandb.me/run' target=\"_blank\">docs</a>)<br/>"
      ]
     },
     "metadata": {},
     "output_type": "display_data"
    },
    {
     "data": {
      "text/plain": [
       "<IPython.core.display.HTML object>"
      ],
      "text/html": [
       " View project at <a href='https://wandb.ai/kawishbit-org/wz_llama_classifier' target=\"_blank\">https://wandb.ai/kawishbit-org/wz_llama_classifier</a>"
      ]
     },
     "metadata": {},
     "output_type": "display_data"
    },
    {
     "data": {
      "text/plain": [
       "<IPython.core.display.HTML object>"
      ],
      "text/html": [
       " View run at <a href='https://wandb.ai/kawishbit-org/wz_llama_classifier/runs/ucnf5id0' target=\"_blank\">https://wandb.ai/kawishbit-org/wz_llama_classifier/runs/ucnf5id0</a>"
      ]
     },
     "metadata": {},
     "output_type": "display_data"
    }
   ],
   "execution_count": 16
  },
  {
   "metadata": {
    "ExecuteTime": {
     "end_time": "2024-08-14T17:37:50.530319Z",
     "start_time": "2024-08-14T17:37:50.525693Z"
    }
   },
   "cell_type": "code",
   "source": [
    "id_to_label_mapping = {0: 'A1', 1: 'A2', 2: 'B1', 3: 'B2', 4: 'C1', 5: 'C2'}\n",
    "label_to_id_mapping = {'A1': 0, 'A2': 1, 'B1': 2, 'B2': 3, 'C1': 4, 'C2': 5}\n",
    "cefr_levels = [\"A1\", \"A2\", \"B1\", \"B2\", \"C1\", \"C2\"]"
   ],
   "id": "a61138961831c00f",
   "outputs": [],
   "execution_count": 17
  },
  {
   "metadata": {
    "ExecuteTime": {
     "end_time": "2024-08-14T17:37:50.560984Z",
     "start_time": "2024-08-14T17:37:50.531480Z"
    }
   },
   "cell_type": "code",
   "source": [
    "train = pd.read_csv('../datasets/archived/em_train.csv')\n",
    "test = pd.read_csv('../datasets/archived/em_test.csv')\n",
    "validation = pd.read_csv('../datasets/archived/em_val.csv')\n",
    "\n",
    "train['level'] = train['label'].apply(lambda x: id_to_label_mapping[x])\n",
    "test['level'] = test['label'].apply(lambda x: id_to_label_mapping[x])\n",
    "validation['level'] = validation['label'].apply(lambda x: id_to_label_mapping[x])\n",
    "\n",
    "train = train.sample(frac=1).reset_index(drop=True)\n",
    "test = test.sample(frac=1).reset_index(drop=True)\n",
    "validation = validation.sample(frac=1).reset_index(drop=True)"
   ],
   "id": "108ace26043d594a",
   "outputs": [],
   "execution_count": 18
  },
  {
   "metadata": {
    "ExecuteTime": {
     "end_time": "2024-08-14T17:37:50.567336Z",
     "start_time": "2024-08-14T17:37:50.561988Z"
    }
   },
   "cell_type": "code",
   "source": "train.head()",
   "id": "788ed9fbae0c2237",
   "outputs": [
    {
     "data": {
      "text/plain": [
       "      no                                               text  label level\n",
       "0   1935                    i feel more sociable these days      1    A2\n",
       "1   7122  i feel when you should walk in to see the film...      5    C2\n",
       "2   6917  i don t feel gloomy about it despite losing my...      0    A1\n",
       "3  10833                       i feel insecure all the time      4    C1\n",
       "4   3236   i feel selfish but i think it s about time i was      3    B2"
      ],
      "text/html": [
       "<div>\n",
       "<style scoped>\n",
       "    .dataframe tbody tr th:only-of-type {\n",
       "        vertical-align: middle;\n",
       "    }\n",
       "\n",
       "    .dataframe tbody tr th {\n",
       "        vertical-align: top;\n",
       "    }\n",
       "\n",
       "    .dataframe thead th {\n",
       "        text-align: right;\n",
       "    }\n",
       "</style>\n",
       "<table border=\"1\" class=\"dataframe\">\n",
       "  <thead>\n",
       "    <tr style=\"text-align: right;\">\n",
       "      <th></th>\n",
       "      <th>no</th>\n",
       "      <th>text</th>\n",
       "      <th>label</th>\n",
       "      <th>level</th>\n",
       "    </tr>\n",
       "  </thead>\n",
       "  <tbody>\n",
       "    <tr>\n",
       "      <th>0</th>\n",
       "      <td>1935</td>\n",
       "      <td>i feel more sociable these days</td>\n",
       "      <td>1</td>\n",
       "      <td>A2</td>\n",
       "    </tr>\n",
       "    <tr>\n",
       "      <th>1</th>\n",
       "      <td>7122</td>\n",
       "      <td>i feel when you should walk in to see the film...</td>\n",
       "      <td>5</td>\n",
       "      <td>C2</td>\n",
       "    </tr>\n",
       "    <tr>\n",
       "      <th>2</th>\n",
       "      <td>6917</td>\n",
       "      <td>i don t feel gloomy about it despite losing my...</td>\n",
       "      <td>0</td>\n",
       "      <td>A1</td>\n",
       "    </tr>\n",
       "    <tr>\n",
       "      <th>3</th>\n",
       "      <td>10833</td>\n",
       "      <td>i feel insecure all the time</td>\n",
       "      <td>4</td>\n",
       "      <td>C1</td>\n",
       "    </tr>\n",
       "    <tr>\n",
       "      <th>4</th>\n",
       "      <td>3236</td>\n",
       "      <td>i feel selfish but i think it s about time i was</td>\n",
       "      <td>3</td>\n",
       "      <td>B2</td>\n",
       "    </tr>\n",
       "  </tbody>\n",
       "</table>\n",
       "</div>"
      ]
     },
     "execution_count": 19,
     "metadata": {},
     "output_type": "execute_result"
    }
   ],
   "execution_count": 19
  },
  {
   "metadata": {
    "ExecuteTime": {
     "end_time": "2024-08-14T17:37:50.574205Z",
     "start_time": "2024-08-14T17:37:50.568846Z"
    }
   },
   "cell_type": "code",
   "source": "test.head()",
   "id": "6ffa5abe1a31c839",
   "outputs": [
    {
     "data": {
      "text/plain": [
       "    no                                               text  label level\n",
       "0  718  i feel that it is extremely dangerous for her ...      3    B2\n",
       "1  716  i get the feeling donald is smart enough to ed...      1    A2\n",
       "2  674  i want to feel assured that my life will be go...      1    A2\n",
       "3  684  i mention my oldest child before my youngest w...      0    A1\n",
       "4  759  i feel very strongly about supporting charitie...      1    A2"
      ],
      "text/html": [
       "<div>\n",
       "<style scoped>\n",
       "    .dataframe tbody tr th:only-of-type {\n",
       "        vertical-align: middle;\n",
       "    }\n",
       "\n",
       "    .dataframe tbody tr th {\n",
       "        vertical-align: top;\n",
       "    }\n",
       "\n",
       "    .dataframe thead th {\n",
       "        text-align: right;\n",
       "    }\n",
       "</style>\n",
       "<table border=\"1\" class=\"dataframe\">\n",
       "  <thead>\n",
       "    <tr style=\"text-align: right;\">\n",
       "      <th></th>\n",
       "      <th>no</th>\n",
       "      <th>text</th>\n",
       "      <th>label</th>\n",
       "      <th>level</th>\n",
       "    </tr>\n",
       "  </thead>\n",
       "  <tbody>\n",
       "    <tr>\n",
       "      <th>0</th>\n",
       "      <td>718</td>\n",
       "      <td>i feel that it is extremely dangerous for her ...</td>\n",
       "      <td>3</td>\n",
       "      <td>B2</td>\n",
       "    </tr>\n",
       "    <tr>\n",
       "      <th>1</th>\n",
       "      <td>716</td>\n",
       "      <td>i get the feeling donald is smart enough to ed...</td>\n",
       "      <td>1</td>\n",
       "      <td>A2</td>\n",
       "    </tr>\n",
       "    <tr>\n",
       "      <th>2</th>\n",
       "      <td>674</td>\n",
       "      <td>i want to feel assured that my life will be go...</td>\n",
       "      <td>1</td>\n",
       "      <td>A2</td>\n",
       "    </tr>\n",
       "    <tr>\n",
       "      <th>3</th>\n",
       "      <td>684</td>\n",
       "      <td>i mention my oldest child before my youngest w...</td>\n",
       "      <td>0</td>\n",
       "      <td>A1</td>\n",
       "    </tr>\n",
       "    <tr>\n",
       "      <th>4</th>\n",
       "      <td>759</td>\n",
       "      <td>i feel very strongly about supporting charitie...</td>\n",
       "      <td>1</td>\n",
       "      <td>A2</td>\n",
       "    </tr>\n",
       "  </tbody>\n",
       "</table>\n",
       "</div>"
      ]
     },
     "execution_count": 20,
     "metadata": {},
     "output_type": "execute_result"
    }
   ],
   "execution_count": 20
  },
  {
   "metadata": {
    "ExecuteTime": {
     "end_time": "2024-08-14T17:37:50.580615Z",
     "start_time": "2024-08-14T17:37:50.575210Z"
    }
   },
   "cell_type": "code",
   "source": "validation.head()",
   "id": "6ebd41d88ea697f8",
   "outputs": [
    {
     "data": {
      "text/plain": [
       "     no                                               text  label level\n",
       "0  1518  i eat or sleep i cant get myself to feel the l...      2    B1\n",
       "1  1165  i know what i want will take next semester but...      1    A2\n",
       "2  1172   i feel like i dont need school to be intelligent      1    A2\n",
       "3   637  im still not a fan but i feel less agonized by...      0    A1\n",
       "4   173  i expected to feel more but nope i dont and th...      1    A2"
      ],
      "text/html": [
       "<div>\n",
       "<style scoped>\n",
       "    .dataframe tbody tr th:only-of-type {\n",
       "        vertical-align: middle;\n",
       "    }\n",
       "\n",
       "    .dataframe tbody tr th {\n",
       "        vertical-align: top;\n",
       "    }\n",
       "\n",
       "    .dataframe thead th {\n",
       "        text-align: right;\n",
       "    }\n",
       "</style>\n",
       "<table border=\"1\" class=\"dataframe\">\n",
       "  <thead>\n",
       "    <tr style=\"text-align: right;\">\n",
       "      <th></th>\n",
       "      <th>no</th>\n",
       "      <th>text</th>\n",
       "      <th>label</th>\n",
       "      <th>level</th>\n",
       "    </tr>\n",
       "  </thead>\n",
       "  <tbody>\n",
       "    <tr>\n",
       "      <th>0</th>\n",
       "      <td>1518</td>\n",
       "      <td>i eat or sleep i cant get myself to feel the l...</td>\n",
       "      <td>2</td>\n",
       "      <td>B1</td>\n",
       "    </tr>\n",
       "    <tr>\n",
       "      <th>1</th>\n",
       "      <td>1165</td>\n",
       "      <td>i know what i want will take next semester but...</td>\n",
       "      <td>1</td>\n",
       "      <td>A2</td>\n",
       "    </tr>\n",
       "    <tr>\n",
       "      <th>2</th>\n",
       "      <td>1172</td>\n",
       "      <td>i feel like i dont need school to be intelligent</td>\n",
       "      <td>1</td>\n",
       "      <td>A2</td>\n",
       "    </tr>\n",
       "    <tr>\n",
       "      <th>3</th>\n",
       "      <td>637</td>\n",
       "      <td>im still not a fan but i feel less agonized by...</td>\n",
       "      <td>0</td>\n",
       "      <td>A1</td>\n",
       "    </tr>\n",
       "    <tr>\n",
       "      <th>4</th>\n",
       "      <td>173</td>\n",
       "      <td>i expected to feel more but nope i dont and th...</td>\n",
       "      <td>1</td>\n",
       "      <td>A2</td>\n",
       "    </tr>\n",
       "  </tbody>\n",
       "</table>\n",
       "</div>"
      ]
     },
     "execution_count": 21,
     "metadata": {},
     "output_type": "execute_result"
    }
   ],
   "execution_count": 21
  },
  {
   "metadata": {
    "ExecuteTime": {
     "end_time": "2024-08-14T17:37:50.585675Z",
     "start_time": "2024-08-14T17:37:50.580615Z"
    }
   },
   "cell_type": "code",
   "source": "train.label.value_counts(normalize=True)",
   "id": "db102f538d2886ea",
   "outputs": [
    {
     "data": {
      "text/plain": [
       "label\n",
       "1    0.335125\n",
       "0    0.291625\n",
       "3    0.134937\n",
       "4    0.121063\n",
       "2    0.081500\n",
       "5    0.035750\n",
       "Name: proportion, dtype: float64"
      ]
     },
     "execution_count": 22,
     "metadata": {},
     "output_type": "execute_result"
    }
   ],
   "execution_count": 22
  },
  {
   "metadata": {
    "ExecuteTime": {
     "end_time": "2024-08-14T17:37:50.634050Z",
     "start_time": "2024-08-14T17:37:50.585675Z"
    }
   },
   "cell_type": "code",
   "source": [
    "class_weights=(1/train.label.value_counts(normalize=True).sort_index()).tolist()\n",
    "class_weights=torch.tensor(class_weights)\n",
    "class_weights=class_weights/class_weights.sum()\n",
    "class_weights"
   ],
   "id": "7e01995747a07719",
   "outputs": [
    {
     "data": {
      "text/plain": [
       "tensor([0.0550, 0.0479, 0.1969, 0.1189, 0.1325, 0.4488])"
      ]
     },
     "execution_count": 23,
     "metadata": {},
     "output_type": "execute_result"
    }
   ],
   "execution_count": 23
  },
  {
   "metadata": {
    "ExecuteTime": {
     "end_time": "2024-08-14T17:37:50.638167Z",
     "start_time": "2024-08-14T17:37:50.635054Z"
    }
   },
   "cell_type": "code",
   "source": "model_name = \"meta-llama/Meta-Llama-3-8B\"",
   "id": "bcaa7c0f3353a17",
   "outputs": [],
   "execution_count": 24
  },
  {
   "metadata": {
    "ExecuteTime": {
     "end_time": "2024-08-14T17:37:50.644162Z",
     "start_time": "2024-08-14T17:37:50.639172Z"
    }
   },
   "cell_type": "code",
   "source": [
    "quantization_config = BitsAndBytesConfig(\n",
    "    load_in_4bit = True,\n",
    "    bnb_4bit_quant_type = 'nf4',\n",
    "    bnb_4bit_use_double_quant = False,\n",
    "    bnb_4bit_compute_dtype = torch.float16\n",
    ")"
   ],
   "id": "a13343f6a5325713",
   "outputs": [],
   "execution_count": 25
  },
  {
   "metadata": {
    "ExecuteTime": {
     "end_time": "2024-08-14T17:37:50.648123Z",
     "start_time": "2024-08-14T17:37:50.645168Z"
    }
   },
   "cell_type": "code",
   "source": [
    "lora_config = LoraConfig(\n",
    "    r=16,\n",
    "    lora_alpha=32,\n",
    "    lora_dropout=0.1,\n",
    "    bias=\"none\",\n",
    "    task_type= 'SEQ_CLS',\n",
    "    target_modules=['v_proj', 'down_proj', 'up_proj', 'q_proj', 'gate_proj', 'k_proj', 'o_proj']\n",
    ")"
   ],
   "id": "55c1f1b084365e9",
   "outputs": [],
   "execution_count": 26
  },
  {
   "metadata": {
    "ExecuteTime": {
     "end_time": "2024-08-14T17:38:08.124076Z",
     "start_time": "2024-08-14T17:37:50.649128Z"
    }
   },
   "cell_type": "code",
   "source": [
    "model = AutoModelForSequenceClassification.from_pretrained(\n",
    "    model_name,\n",
    "    quantization_config=quantization_config,\n",
    "    num_labels=6,\n",
    "    device_map=None,\n",
    "    resume_download=None,\n",
    "    low_cpu_mem_usage=True\n",
    ")"
   ],
   "id": "cfec6a74202bea9e",
   "outputs": [
    {
     "data": {
      "text/plain": [
       "Loading checkpoint shards:   0%|          | 0/4 [00:00<?, ?it/s]"
      ],
      "application/vnd.jupyter.widget-view+json": {
       "version_major": 2,
       "version_minor": 0,
       "model_id": "4f82bbaba7a14777944e177b8b5bbaeb"
      }
     },
     "metadata": {},
     "output_type": "display_data"
    },
    {
     "name": "stderr",
     "output_type": "stream",
     "text": [
      "Some weights of LlamaForSequenceClassification were not initialized from the model checkpoint at meta-llama/Meta-Llama-3-8B and are newly initialized: ['score.weight']\n",
      "You should probably TRAIN this model on a down-stream task to be able to use it for predictions and inference.\n"
     ]
    }
   ],
   "execution_count": 27
  },
  {
   "metadata": {
    "ExecuteTime": {
     "end_time": "2024-08-14T17:38:08.193369Z",
     "start_time": "2024-08-14T17:38:08.124076Z"
    }
   },
   "cell_type": "code",
   "source": "model = prepare_model_for_kbit_training(model)",
   "id": "9502446314aa1007",
   "outputs": [],
   "execution_count": 28
  },
  {
   "metadata": {
    "ExecuteTime": {
     "end_time": "2024-08-14T17:38:08.533420Z",
     "start_time": "2024-08-14T17:38:08.195736Z"
    }
   },
   "cell_type": "code",
   "source": "model = get_peft_model(model, lora_config)",
   "id": "c3176b45ff749bd6",
   "outputs": [],
   "execution_count": 29
  },
  {
   "metadata": {
    "ExecuteTime": {
     "end_time": "2024-08-14T17:38:08.542150Z",
     "start_time": "2024-08-14T17:38:08.534304Z"
    }
   },
   "cell_type": "code",
   "source": "model.gradient_checkpointing_enable()",
   "id": "d4a2ce22c6615659",
   "outputs": [],
   "execution_count": 30
  },
  {
   "metadata": {
    "ExecuteTime": {
     "end_time": "2024-08-14T17:38:09.024472Z",
     "start_time": "2024-08-14T17:38:08.542266Z"
    }
   },
   "cell_type": "code",
   "source": [
    "tokenizer = AutoTokenizer.from_pretrained(\n",
    "    model_name,\n",
    "    resume_download=None,\n",
    "    add_prefix_space=True\n",
    ")\n",
    "\n",
    "tokenizer.pad_token_id = tokenizer.eos_token_id\n",
    "tokenizer.pad_token = tokenizer.eos_token"
   ],
   "id": "ac8fc29bc6ad81a7",
   "outputs": [
    {
     "name": "stderr",
     "output_type": "stream",
     "text": [
      "Special tokens have been added in the vocabulary, make sure the associated word embeddings are fine-tuned or trained.\n"
     ]
    }
   ],
   "execution_count": 31
  },
  {
   "metadata": {
    "ExecuteTime": {
     "end_time": "2024-08-14T17:38:09.028608Z",
     "start_time": "2024-08-14T17:38:09.024707Z"
    }
   },
   "cell_type": "code",
   "source": [
    "model.config.pad_token_id = tokenizer.pad_token_id\n",
    "model.config.use_cache = False\n",
    "model.config.pretraining_tp = 1"
   ],
   "id": "db3498982cf711e5",
   "outputs": [],
   "execution_count": 32
  },
  {
   "metadata": {
    "ExecuteTime": {
     "end_time": "2024-08-14T17:38:09.034472Z",
     "start_time": "2024-08-14T17:38:09.029613Z"
    }
   },
   "cell_type": "code",
   "source": [
    "sentences = test.text.tolist()\n",
    "sentences[0:2]"
   ],
   "id": "67e8523efa01210d",
   "outputs": [
    {
     "data": {
      "text/plain": [
       "['i feel that it is extremely dangerous for her to be wandering out to sea',\n",
       " 'i get the feeling donald is smart enough to educate himself through his own densely focused meanderings and their inherent shortcomings']"
      ]
     },
     "execution_count": 33,
     "metadata": {},
     "output_type": "execute_result"
    }
   ],
   "execution_count": 33
  },
  {
   "metadata": {
    "ExecuteTime": {
     "end_time": "2024-08-14T17:40:56.390262Z",
     "start_time": "2024-08-14T17:38:09.034472Z"
    }
   },
   "cell_type": "code",
   "source": [
    "print(f'Started prediction at {datetime.datetime.now()}')\n",
    "sentences = test.text.tolist()\n",
    "\n",
    "batch_size = 32\n",
    "\n",
    "all_outputs = []\n",
    "\n",
    "for i in range(0, len(sentences), batch_size):\n",
    "    batch_sentences = sentences[i:i + batch_size]\n",
    "\n",
    "    inputs = tokenizer(batch_sentences, return_tensors=\"pt\",\n",
    "                       padding=True, truncation=True, max_length=512)\n",
    "\n",
    "    inputs = {k: v.to('cuda' if torch.cuda.is_available() else 'cpu') for k, v in inputs.items()}\n",
    "\n",
    "    with torch.no_grad():\n",
    "        outputs = model(**inputs)\n",
    "        all_outputs.append(outputs['logits'])"
   ],
   "id": "1729a679f72da01e",
   "outputs": [
    {
     "name": "stdout",
     "output_type": "stream",
     "text": [
      "Started prediction at 2024-08-15 00:38:09.037477\n"
     ]
    },
    {
     "name": "stderr",
     "output_type": "stream",
     "text": [
      "C:\\Users\\kawis\\anaconda3\\Lib\\site-packages\\transformers\\models\\llama\\modeling_llama.py:671: UserWarning: 1Torch was not compiled with flash attention. (Triggered internally at C:\\actions-runner\\_work\\pytorch\\pytorch\\builder\\windows\\pytorch\\aten\\src\\ATen\\native\\transformers\\cuda\\sdp_utils.cpp:555.)\n",
      "  attn_output = torch.nn.functional.scaled_dot_product_attention(\n"
     ]
    }
   ],
   "execution_count": 34
  },
  {
   "metadata": {
    "ExecuteTime": {
     "end_time": "2024-08-14T17:40:56.749304Z",
     "start_time": "2024-08-14T17:40:56.391266Z"
    }
   },
   "cell_type": "code",
   "source": [
    "final_outputs = torch.cat(all_outputs, dim=0)\n",
    "final_outputs"
   ],
   "id": "d954324c86c22b0d",
   "outputs": [
    {
     "data": {
      "text/plain": [
       "tensor([[ 1.0702,  0.8739, -3.5877, -2.7054, -0.2037, -3.6208],\n",
       "        [ 3.2621, -2.2945,  0.9134,  6.5352,  0.2836, -2.6876],\n",
       "        [ 0.5262,  1.0407,  2.5047, -2.7872, -0.2115, -4.5900],\n",
       "        ...,\n",
       "        [ 5.2698, -2.1734,  2.9638,  2.2789,  1.7810, -8.8508],\n",
       "        [ 4.7039, -0.9204,  1.4050,  1.4132,  0.6442, -7.9718],\n",
       "        [ 1.5853, -1.1047, -1.9614,  1.4406,  2.0827, -1.5999]],\n",
       "       device='cuda:0')"
      ]
     },
     "execution_count": 35,
     "metadata": {},
     "output_type": "execute_result"
    }
   ],
   "execution_count": 35
  },
  {
   "metadata": {
    "ExecuteTime": {
     "end_time": "2024-08-14T17:40:56.755895Z",
     "start_time": "2024-08-14T17:40:56.749304Z"
    }
   },
   "cell_type": "code",
   "source": "final_outputs.argmax(axis=1)",
   "id": "b97d9ab8e9c12c2e",
   "outputs": [
    {
     "data": {
      "text/plain": [
       "tensor([0, 3, 2,  ..., 0, 0, 4], device='cuda:0')"
      ]
     },
     "execution_count": 36,
     "metadata": {},
     "output_type": "execute_result"
    }
   ],
   "execution_count": 36
  },
  {
   "metadata": {
    "ExecuteTime": {
     "end_time": "2024-08-14T17:40:56.762413Z",
     "start_time": "2024-08-14T17:40:56.755895Z"
    }
   },
   "cell_type": "code",
   "source": [
    "test['predictions'] = final_outputs.argmax(axis=1).cpu().numpy()\n",
    "test['predictions']"
   ],
   "id": "8094b0b44576fb7d",
   "outputs": [
    {
     "data": {
      "text/plain": [
       "0       0\n",
       "1       3\n",
       "2       2\n",
       "3       0\n",
       "4       2\n",
       "       ..\n",
       "1995    3\n",
       "1996    1\n",
       "1997    0\n",
       "1998    0\n",
       "1999    4\n",
       "Name: predictions, Length: 2000, dtype: int64"
      ]
     },
     "execution_count": 37,
     "metadata": {},
     "output_type": "execute_result"
    }
   ],
   "execution_count": 37
  },
  {
   "metadata": {
    "ExecuteTime": {
     "end_time": "2024-08-14T17:40:56.768103Z",
     "start_time": "2024-08-14T17:40:56.762669Z"
    }
   },
   "cell_type": "code",
   "source": "test['predictions'].value_counts()",
   "id": "1b92f771705c4a04",
   "outputs": [
    {
     "data": {
      "text/plain": [
       "predictions\n",
       "0    1064\n",
       "3     489\n",
       "2     186\n",
       "4     174\n",
       "1      64\n",
       "5      23\n",
       "Name: count, dtype: int64"
      ]
     },
     "execution_count": 38,
     "metadata": {},
     "output_type": "execute_result"
    }
   ],
   "execution_count": 38
  },
  {
   "metadata": {
    "ExecuteTime": {
     "end_time": "2024-08-14T17:40:56.773873Z",
     "start_time": "2024-08-14T17:40:56.769108Z"
    }
   },
   "cell_type": "code",
   "source": [
    "test['predictions']=test['predictions'].apply(lambda x: id_to_label_mapping[x])\n",
    "test['predictions']"
   ],
   "id": "bbe8f678fb1aa34",
   "outputs": [
    {
     "data": {
      "text/plain": [
       "0       A1\n",
       "1       B2\n",
       "2       B1\n",
       "3       A1\n",
       "4       B1\n",
       "        ..\n",
       "1995    B2\n",
       "1996    A2\n",
       "1997    A1\n",
       "1998    A1\n",
       "1999    C1\n",
       "Name: predictions, Length: 2000, dtype: object"
      ]
     },
     "execution_count": 39,
     "metadata": {},
     "output_type": "execute_result"
    }
   ],
   "execution_count": 39
  },
  {
   "metadata": {
    "ExecuteTime": {
     "end_time": "2024-08-14T17:40:59.218250Z",
     "start_time": "2024-08-14T17:40:56.774877Z"
    }
   },
   "cell_type": "code",
   "source": [
    "from matplotlib import pyplot as plt\n",
    "from sklearn.metrics import ConfusionMatrixDisplay\n",
    "import numpy as np\n",
    "\n",
    "y_pred = test['predictions']\n",
    "\n",
    "y_true = test['level']\n",
    "\n",
    "def map_func(x):\n",
    "    return label_to_id_mapping.get(x, -1)\n",
    "\n",
    "y_true_mapped = np.vectorize(map_func)(y_true)\n",
    "y_pred_mapped = np.vectorize(map_func)(y_pred)\n",
    "\n",
    "# Calculate accuracy\n",
    "accuracy = accuracy_score(y_true=y_true_mapped, y_pred=y_pred_mapped)\n",
    "print(f'Accuracy: {accuracy:.3f}')\n",
    "\n",
    "# Generate accuracy report\n",
    "unique_labels = set(y_true_mapped)  # Get unique labels\n",
    "\n",
    "for label in unique_labels:\n",
    "    label_indices = [i for i in range(len(y_true_mapped)) if y_true_mapped[i] == label]\n",
    "    label_y_true = [y_true_mapped[i] for i in label_indices]\n",
    "    label_y_pred = [y_pred_mapped[i] for i in label_indices]\n",
    "    label_accuracy = accuracy_score(label_y_true, label_y_pred)\n",
    "    print(f'Accuracy for label {cefr_levels[label]}: {label_accuracy:.3f}')\n",
    "\n",
    "class_report = classification_report(y_true=y_true_mapped, y_pred=y_pred_mapped, target_names=cefr_levels, labels=list(range(len(cefr_levels))))\n",
    "class_report_dict = classification_report(y_true=y_true_mapped, y_pred=y_pred_mapped, target_names=cefr_levels, labels=list(range(len(cefr_levels))), output_dict=True)\n",
    "print('\\nClassification Report:')\n",
    "print(class_report)\n",
    "table_data = []\n",
    "\n",
    "for key, value in class_report_dict.items():\n",
    "    if isinstance(value, dict):\n",
    "        table_data.append([\n",
    "            key,\n",
    "            value.get(\"precision\", 0),\n",
    "            value.get(\"recall\", 0),\n",
    "            value.get(\"f1-score\", 0),\n",
    "            value.get(\"support\", 0)\n",
    "        ])\n",
    "    else:\n",
    "        # For accuracy, add precision and recall as 0\n",
    "        table_data.append([\n",
    "            key,\n",
    "            0,\n",
    "            0,\n",
    "            value,\n",
    "            class_report_dict[\"weighted avg\"][\"support\"]\n",
    "        ])\n",
    "\n",
    "# Generate confusion matrix\n",
    "conf_matrix = confusion_matrix(y_true=y_true_mapped, y_pred=y_pred_mapped, labels=list(range(len(cefr_levels))))\n",
    "disp = ConfusionMatrixDisplay(confusion_matrix=conf_matrix,\n",
    "                              display_labels=cefr_levels)\n",
    "disp.plot()\n",
    "\n",
    "\n",
    "print('\\nConfusion Matrix:')\n",
    "print(conf_matrix)\n",
    "\n",
    "wandb.log({\n",
    "    \"Class Proportions\": wandb.sklearn.plot_class_proportions(train['level'], test['level'], cefr_levels),\n",
    "    \"Confusion Matrix\": plt,\n",
    "    \"Classification Report\": wandb.Table(data=table_data, columns=['Class/Metric', 'Precision', 'Recall', 'F1-score', 'Support'])\n",
    "})"
   ],
   "id": "f049e8c307daf7f4",
   "outputs": [
    {
     "name": "stdout",
     "output_type": "stream",
     "text": [
      "Accuracy: 0.215\n",
      "Accuracy for label A1: 0.484\n",
      "Accuracy for label A2: 0.027\n",
      "Accuracy for label B1: 0.119\n",
      "Accuracy for label B2: 0.298\n",
      "Accuracy for label C1: 0.129\n",
      "Accuracy for label C2: 0.015\n",
      "\n",
      "Classification Report:\n",
      "              precision    recall  f1-score   support\n",
      "\n",
      "          A1       0.26      0.48      0.34       581\n",
      "          A2       0.30      0.03      0.05       695\n",
      "          B1       0.10      0.12      0.11       159\n",
      "          B2       0.17      0.30      0.21       275\n",
      "          C1       0.17      0.13      0.15       224\n",
      "          C2       0.04      0.02      0.02        66\n",
      "\n",
      "    accuracy                           0.22      2000\n",
      "   macro avg       0.17      0.18      0.15      2000\n",
      "weighted avg       0.23      0.22      0.17      2000\n",
      "\n",
      "\n",
      "Confusion Matrix:\n",
      "[[281  16  49 166  61   8]\n",
      " [395  19  83 145  42  11]\n",
      " [ 97   3  19  28  11   1]\n",
      " [135  11  17  82  28   2]\n",
      " [121  11  15  48  29   0]\n",
      " [ 35   4   3  20   3   1]]\n"
     ]
    },
    {
     "data": {
      "text/plain": [
       "<Figure size 640x480 with 2 Axes>"
      ],
      "image/png": "[encoded data removed]"
     },
     "metadata": {},
     "output_type": "display_data"
    }
   ],
   "execution_count": 40
  },
  {
   "metadata": {
    "ExecuteTime": {
     "end_time": "2024-08-14T17:40:59.318324Z",
     "start_time": "2024-08-14T17:40:59.219338Z"
    }
   },
   "cell_type": "code",
   "source": [
    "disp.plot()\n",
    "plt.show()"
   ],
   "id": "85054209b445794d",
   "outputs": [
    {
     "data": {
      "text/plain": [
       "<Figure size 640x480 with 2 Axes>"
      ],
      "image/png": "[encoded data removed]"
     },
     "metadata": {},
     "output_type": "display_data"
    }
   ],
   "execution_count": 41
  },
  {
   "metadata": {
    "ExecuteTime": {
     "end_time": "2024-08-14T17:41:13.764033Z",
     "start_time": "2024-08-14T17:40:59.319174Z"
    }
   },
   "cell_type": "code",
   "source": [
    "print(f'Ended prediction at {datetime.datetime.now()}')\n",
    "wandb.finish()"
   ],
   "id": "a544edd10920d116",
   "outputs": [
    {
     "name": "stdout",
     "output_type": "stream",
     "text": [
      "Ended prediction at 2024-08-15 00:40:59.321263\n"
     ]
    },
    {
     "data": {
      "text/plain": [
       "VBox(children=(Label(value='0.034 MB of 0.034 MB uploaded\\r'), FloatProgress(value=1.0, max=1.0)))"
      ],
      "application/vnd.jupyter.widget-view+json": {
       "version_major": 2,
       "version_minor": 0,
       "model_id": "ff6508b257cd4f3bb290d0affd4dea8f"
      }
     },
     "metadata": {},
     "output_type": "display_data"
    },
    {
     "data": {
      "text/plain": [
       "<IPython.core.display.HTML object>"
      ],
      "text/html": [
       " View run <strong style=\"color:#cdcd00\">helpful-rain-5</strong> at: <a href='https://wandb.ai/kawishbit-org/wz_llama_classifier/runs/ucnf5id0' target=\"_blank\">https://wandb.ai/kawishbit-org/wz_llama_classifier/runs/ucnf5id0</a><br/> View project at: <a href='https://wandb.ai/kawishbit-org/wz_llama_classifier' target=\"_blank\">https://wandb.ai/kawishbit-org/wz_llama_classifier</a><br/>Synced 6 W&B file(s), 3 media file(s), 2 artifact file(s) and 0 other file(s)"
      ]
     },
     "metadata": {},
     "output_type": "display_data"
    },
    {
     "data": {
      "text/plain": [
       "<IPython.core.display.HTML object>"
      ],
      "text/html": [
       "Find logs at: <code>.\\wandb\\run-20240815_003735-ucnf5id0\\logs</code>"
      ]
     },
     "metadata": {},
     "output_type": "display_data"
    },
    {
     "data": {
      "text/plain": [
       "<IPython.core.display.HTML object>"
      ],
      "text/html": [
       "The new W&B backend becomes opt-out in version 0.18.0; try it out with `wandb.require(\"core\")`! See https://wandb.me/wandb-core for more information."
      ]
     },
     "metadata": {},
     "output_type": "display_data"
    }
   ],
   "execution_count": 42
  },
  {
   "metadata": {
    "ExecuteTime": {
     "end_time": "2024-08-14T17:41:13.766624Z",
     "start_time": "2024-08-14T17:41:13.765037Z"
    }
   },
   "cell_type": "code",
   "source": "",
   "id": "37789377d6a903ad",
   "outputs": [],
   "execution_count": 42
  }
 ],
 "metadata": {
  "kernelspec": {
   "display_name": "Python 3",
   "language": "python",
   "name": "python3"
  },
  "language_info": {
   "codemirror_mode": {
    "name": "ipython",
    "version": 2
   },
   "file_extension": ".py",
   "mimetype": "text/x-python",
   "name": "python",
   "nbconvert_exporter": "python",
   "pygments_lexer": "ipython2",
   "version": "2.7.6"
  }
 },
 "nbformat": 4,
 "nbformat_minor": 5
}
