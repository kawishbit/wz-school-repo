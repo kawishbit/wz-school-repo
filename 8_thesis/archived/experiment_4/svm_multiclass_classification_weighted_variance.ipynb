{
 "cells": [
  {
   "cell_type": "code",
   "id": "initial_id",
   "metadata": {
    "collapsed": true,
    "ExecuteTime": {
     "end_time": "2024-08-19T13:52:43.678725Z",
     "start_time": "2024-08-19T13:52:43.675222Z"
    }
   },
   "source": [
    "import numpy as np\n",
    "import pandas as pd\n",
    "import nltk\n",
    "from nltk.corpus import stopwords\n",
    "import matplotlib.pyplot as plt\n",
    "from nltk.stem import WordNetLemmatizer\n",
    "from sklearn.feature_extraction.text import TfidfVectorizer\n",
    "from sklearn.metrics import balanced_accuracy_score, classification_report\n",
    "from skopt import BayesSearchCV\n",
    "from sklearn.model_selection import GridSearchCV\n",
    "import json\n",
    "import pickle\n",
    "import time\n",
    "import wandb\n",
    "import re"
   ],
   "outputs": [],
   "execution_count": 21
  },
  {
   "metadata": {
    "ExecuteTime": {
     "end_time": "2024-08-19T13:52:59.139318Z",
     "start_time": "2024-08-19T13:52:43.680248Z"
    }
   },
   "cell_type": "code",
   "source": [
    "config_data = json.load(open('../config.json'))\n",
    "HF_TOKEN = config_data['HF_TOKEN']\n",
    "WANDB_TOKEN = config_data['WANDB_TOKEN']\n",
    "\n",
    "wandb.login(key=WANDB_TOKEN)\n",
    "\n",
    "run = wandb.init(\n",
    "    project='wz_experimental',\n",
    "    config={\"model_name\": \"SVM\"}\n",
    ")"
   ],
   "id": "ce595aea75006654",
   "outputs": [
    {
     "name": "stderr",
     "output_type": "stream",
     "text": [
      "\u001B[34m\u001B[1mwandb\u001B[0m: \u001B[33mWARNING\u001B[0m Calling wandb.login() after wandb.init() has no effect.\n"
     ]
    },
    {
     "data": {
      "text/plain": [
       "<IPython.core.display.HTML object>"
      ],
      "text/html": [
       "Finishing last run (ID:egcv632j) before initializing another..."
      ]
     },
     "metadata": {},
     "output_type": "display_data"
    },
    {
     "data": {
      "text/plain": [
       "VBox(children=(Label(value='0.001 MB of 0.001 MB uploaded\\r'), FloatProgress(value=1.0, max=1.0)))"
      ],
      "application/vnd.jupyter.widget-view+json": {
       "version_major": 2,
       "version_minor": 0,
       "model_id": "c6483a813efc4442b389013148baf85e"
      }
     },
     "metadata": {},
     "output_type": "display_data"
    },
    {
     "data": {
      "text/plain": [
       "<IPython.core.display.HTML object>"
      ],
      "text/html": [
       " View run <strong style=\"color:#cdcd00\">hopeful-wildflower-37</strong> at: <a href='https://wandb.ai/kawishbit-org/wz_experimental/runs/egcv632j' target=\"_blank\">https://wandb.ai/kawishbit-org/wz_experimental/runs/egcv632j</a><br/> View project at: <a href='https://wandb.ai/kawishbit-org/wz_experimental' target=\"_blank\">https://wandb.ai/kawishbit-org/wz_experimental</a><br/>Synced 6 W&B file(s), 0 media file(s), 0 artifact file(s) and 0 other file(s)"
      ]
     },
     "metadata": {},
     "output_type": "display_data"
    },
    {
     "data": {
      "text/plain": [
       "<IPython.core.display.HTML object>"
      ],
      "text/html": [
       "Find logs at: <code>.\\wandb\\run-20240819_204532-egcv632j\\logs</code>"
      ]
     },
     "metadata": {},
     "output_type": "display_data"
    },
    {
     "data": {
      "text/plain": [
       "<IPython.core.display.HTML object>"
      ],
      "text/html": [
       "The new W&B backend becomes opt-out in version 0.18.0; try it out with `wandb.require(\"core\")`! See https://wandb.me/wandb-core for more information."
      ]
     },
     "metadata": {},
     "output_type": "display_data"
    },
    {
     "data": {
      "text/plain": [
       "<IPython.core.display.HTML object>"
      ],
      "text/html": [
       "Successfully finished last run (ID:egcv632j). Initializing new run:<br/>"
      ]
     },
     "metadata": {},
     "output_type": "display_data"
    },
    {
     "data": {
      "text/plain": [
       "VBox(children=(Label(value='Waiting for wandb.init()...\\r'), FloatProgress(value=0.011288888888925108, max=1.0…"
      ],
      "application/vnd.jupyter.widget-view+json": {
       "version_major": 2,
       "version_minor": 0,
       "model_id": "d9588755f027497fa351778d35f15a8b"
      }
     },
     "metadata": {},
     "output_type": "display_data"
    },
    {
     "data": {
      "text/plain": [
       "<IPython.core.display.HTML object>"
      ],
      "text/html": [
       "wandb version 0.17.7 is available!  To upgrade, please run:\n",
       " $ pip install wandb --upgrade"
      ]
     },
     "metadata": {},
     "output_type": "display_data"
    },
    {
     "data": {
      "text/plain": [
       "<IPython.core.display.HTML object>"
      ],
      "text/html": [
       "Tracking run with wandb version 0.17.6"
      ]
     },
     "metadata": {},
     "output_type": "display_data"
    },
    {
     "data": {
      "text/plain": [
       "<IPython.core.display.HTML object>"
      ],
      "text/html": [
       "Run data is saved locally in <code>E:\\repositories\\unirepo\\8_thesis\\experiment_4\\wandb\\run-20240819_205243-vl96wjcw</code>"
      ]
     },
     "metadata": {},
     "output_type": "display_data"
    },
    {
     "data": {
      "text/plain": [
       "<IPython.core.display.HTML object>"
      ],
      "text/html": [
       "Syncing run <strong><a href='https://wandb.ai/kawishbit-org/wz_experimental/runs/vl96wjcw' target=\"_blank\">toasty-flower-38</a></strong> to <a href='https://wandb.ai/kawishbit-org/wz_experimental' target=\"_blank\">Weights & Biases</a> (<a href='https://wandb.me/run' target=\"_blank\">docs</a>)<br/>"
      ]
     },
     "metadata": {},
     "output_type": "display_data"
    },
    {
     "data": {
      "text/plain": [
       "<IPython.core.display.HTML object>"
      ],
      "text/html": [
       " View project at <a href='https://wandb.ai/kawishbit-org/wz_experimental' target=\"_blank\">https://wandb.ai/kawishbit-org/wz_experimental</a>"
      ]
     },
     "metadata": {},
     "output_type": "display_data"
    },
    {
     "data": {
      "text/plain": [
       "<IPython.core.display.HTML object>"
      ],
      "text/html": [
       " View run at <a href='https://wandb.ai/kawishbit-org/wz_experimental/runs/vl96wjcw' target=\"_blank\">https://wandb.ai/kawishbit-org/wz_experimental/runs/vl96wjcw</a>"
      ]
     },
     "metadata": {},
     "output_type": "display_data"
    }
   ],
   "execution_count": 22
  },
  {
   "metadata": {
    "ExecuteTime": {
     "end_time": "2024-08-19T13:52:59.145446Z",
     "start_time": "2024-08-19T13:52:59.140327Z"
    }
   },
   "cell_type": "code",
   "source": [
    "id_to_label_mapping = {0: 'A1', 1: 'A2', 2: 'B1', 3: 'B2', 4: 'C1', 5: 'C2'}\n",
    "label_to_id_mapping = {'A1': 0, 'A2': 1, 'B1': 2, 'B2': 3, 'C1': 4, 'C2': 5}\n",
    "cefr_levels = [\"A1\", \"A2\", \"B1\", \"B2\", \"C1\", \"C2\"]\n",
    "\n",
    "REPLACE_BY_SPACE_RE = re.compile('[/(){}\\[\\]\\|@,;]')\n",
    "BAD_SYMBOLS_RE = re.compile('[^0-9a-z #+_]')\n",
    "STOPWORDS = set(stopwords.words('english'))"
   ],
   "id": "c20a5ab575d56ebe",
   "outputs": [],
   "execution_count": 23
  },
  {
   "metadata": {
    "ExecuteTime": {
     "end_time": "2024-08-19T13:52:59.153520Z",
     "start_time": "2024-08-19T13:52:59.146959Z"
    }
   },
   "cell_type": "code",
   "source": [
    "config = wandb.config\n",
    "\n",
    "config.maxlen = 1000\n",
    "config.vocab_size = 30000\n",
    "config.embedding_dims = 200\n",
    "config.epochs = 7\n",
    "config.hidden_dims = 200\n",
    "config.batch_size = 32"
   ],
   "id": "cba2b489b4da6e92",
   "outputs": [],
   "execution_count": 24
  },
  {
   "metadata": {
    "ExecuteTime": {
     "end_time": "2024-08-19T13:52:59.193677Z",
     "start_time": "2024-08-19T13:52:59.154536Z"
    }
   },
   "cell_type": "code",
   "source": [
    "train_set = pd.read_csv('../datasets/quotes/quotes_train.csv', encoding=\"latin1\")\n",
    "test_set = pd.read_csv('../datasets/quotes/quotes_test.csv', encoding=\"latin1\")\n",
    "\n",
    "train_set.head()"
   ],
   "id": "28fd532cbd3935d1",
   "outputs": [
    {
     "data": {
      "text/plain": [
       "                                                text  label level\n",
       "0  always be yourself  express yourself  have fai...      1    A2\n",
       "1  i passionately believe home cooking has vast b...      1    A2\n",
       "2  it is the attention we give to bad situations ...      0    A1\n",
       "3  looking back  i wonder if mom saw it in my eye...      1    A2\n",
       "4  since beginners can only remain in contact wit...      2    B1"
      ],
      "text/html": [
       "<div>\n",
       "<style scoped>\n",
       "    .dataframe tbody tr th:only-of-type {\n",
       "        vertical-align: middle;\n",
       "    }\n",
       "\n",
       "    .dataframe tbody tr th {\n",
       "        vertical-align: top;\n",
       "    }\n",
       "\n",
       "    .dataframe thead th {\n",
       "        text-align: right;\n",
       "    }\n",
       "</style>\n",
       "<table border=\"1\" class=\"dataframe\">\n",
       "  <thead>\n",
       "    <tr style=\"text-align: right;\">\n",
       "      <th></th>\n",
       "      <th>text</th>\n",
       "      <th>label</th>\n",
       "      <th>level</th>\n",
       "    </tr>\n",
       "  </thead>\n",
       "  <tbody>\n",
       "    <tr>\n",
       "      <th>0</th>\n",
       "      <td>always be yourself  express yourself  have fai...</td>\n",
       "      <td>1</td>\n",
       "      <td>A2</td>\n",
       "    </tr>\n",
       "    <tr>\n",
       "      <th>1</th>\n",
       "      <td>i passionately believe home cooking has vast b...</td>\n",
       "      <td>1</td>\n",
       "      <td>A2</td>\n",
       "    </tr>\n",
       "    <tr>\n",
       "      <th>2</th>\n",
       "      <td>it is the attention we give to bad situations ...</td>\n",
       "      <td>0</td>\n",
       "      <td>A1</td>\n",
       "    </tr>\n",
       "    <tr>\n",
       "      <th>3</th>\n",
       "      <td>looking back  i wonder if mom saw it in my eye...</td>\n",
       "      <td>1</td>\n",
       "      <td>A2</td>\n",
       "    </tr>\n",
       "    <tr>\n",
       "      <th>4</th>\n",
       "      <td>since beginners can only remain in contact wit...</td>\n",
       "      <td>2</td>\n",
       "      <td>B1</td>\n",
       "    </tr>\n",
       "  </tbody>\n",
       "</table>\n",
       "</div>"
      ]
     },
     "execution_count": 25,
     "metadata": {},
     "output_type": "execute_result"
    }
   ],
   "execution_count": 25
  },
  {
   "metadata": {
    "ExecuteTime": {
     "end_time": "2024-08-19T13:52:59.201745Z",
     "start_time": "2024-08-19T13:52:59.194187Z"
    }
   },
   "cell_type": "code",
   "source": [
    "data = pd.concat([train_set,test_set], axis=0)\n",
    "\n",
    "data.reset_index(inplace=True)\n",
    "\n",
    "len(data.index)"
   ],
   "id": "f3ef916048058250",
   "outputs": [
    {
     "data": {
      "text/plain": [
       "20913"
      ]
     },
     "execution_count": 26,
     "metadata": {},
     "output_type": "execute_result"
    }
   ],
   "execution_count": 26
  },
  {
   "metadata": {
    "ExecuteTime": {
     "end_time": "2024-08-19T13:53:03.484365Z",
     "start_time": "2024-08-19T13:52:59.202749Z"
    }
   },
   "cell_type": "code",
   "source": [
    "cleanedData = []\n",
    "\n",
    "lemma = WordNetLemmatizer()\n",
    "swords = stopwords.words(\"english\")\n",
    "for text in data[\"text\"]:\n",
    "    text = nltk.word_tokenize(text.lower())\n",
    "    text = [lemma.lemmatize(word) for word in text]\n",
    "\n",
    "    # Removing stopwords\n",
    "    text = [word for word in text if word not in swords]\n",
    "\n",
    "    # Joining\n",
    "    text = \" \".join(text)\n",
    "\n",
    "    cleanedData.append(text)"
   ],
   "id": "bdd6cc33dcc65836",
   "outputs": [],
   "execution_count": 27
  },
  {
   "metadata": {
    "ExecuteTime": {
     "end_time": "2024-08-19T13:53:03.703054Z",
     "start_time": "2024-08-19T13:53:03.484874Z"
    }
   },
   "cell_type": "code",
   "source": [
    "vectorizer = TfidfVectorizer(max_features=10000)\n",
    "BOW = vectorizer.fit_transform(cleanedData)"
   ],
   "id": "2e428f6df4ae6e77",
   "outputs": [],
   "execution_count": 28
  },
  {
   "metadata": {
    "ExecuteTime": {
     "end_time": "2024-08-19T13:53:03.710825Z",
     "start_time": "2024-08-19T13:53:03.703556Z"
    }
   },
   "cell_type": "code",
   "source": [
    "from sklearn.model_selection import train_test_split\n",
    "x_train,x_test,y_train,y_test = train_test_split(BOW,np.asarray(data[\"label\"]))\n",
    "\n",
    "print(x_train.shape)\n",
    "print(x_test.shape)\n",
    "print(y_train.shape)\n",
    "print(y_test.shape)"
   ],
   "id": "bec13ed2ec19e6e0",
   "outputs": [
    {
     "name": "stdout",
     "output_type": "stream",
     "text": [
      "(15684, 10000)\n",
      "(5229, 10000)\n",
      "(15684,)\n",
      "(5229,)\n"
     ]
    }
   ],
   "execution_count": 29
  },
  {
   "metadata": {
    "ExecuteTime": {
     "end_time": "2024-08-19T14:51:57.526539Z",
     "start_time": "2024-08-19T13:53:03.712333Z"
    }
   },
   "cell_type": "code",
   "source": [
    "from sklearn.svm import SVC\n",
    "start_time = time.time()\n",
    "param_grid = {'C':[1,10,100,1000],'gamma':[1,0.1,0.001,0.0001], 'kernel':['linear','rbf']}\n",
    "\n",
    "grid = GridSearchCV(SVC(),param_grid,refit = True, verbose=2)\n",
    "grid.fit(x_train, y_train)\n",
    "\n",
    "model = grid.best_estimator_\n",
    "\n",
    "end_time = time.time()\n",
    "process_time = round(end_time-start_time,2)\n",
    "print(\"Fitting SVC took {} seconds\".format(process_time))"
   ],
   "id": "2fbfd300d32ac95d",
   "outputs": [
    {
     "name": "stdout",
     "output_type": "stream",
     "text": [
      "Fitting 5 folds for each of 32 candidates, totalling 160 fits\n",
      "[CV] END ........................C=1, gamma=1, kernel=linear; total time=  18.5s\n",
      "[CV] END ........................C=1, gamma=1, kernel=linear; total time=  18.1s\n",
      "[CV] END ........................C=1, gamma=1, kernel=linear; total time=  18.0s\n",
      "[CV] END ........................C=1, gamma=1, kernel=linear; total time=  18.3s\n",
      "[CV] END ........................C=1, gamma=1, kernel=linear; total time=  18.3s\n",
      "[CV] END ...........................C=1, gamma=1, kernel=rbf; total time=  26.4s\n",
      "[CV] END ...........................C=1, gamma=1, kernel=rbf; total time=  26.2s\n",
      "[CV] END ...........................C=1, gamma=1, kernel=rbf; total time=  26.0s\n",
      "[CV] END ...........................C=1, gamma=1, kernel=rbf; total time=  26.3s\n",
      "[CV] END ...........................C=1, gamma=1, kernel=rbf; total time=  26.0s\n",
      "[CV] END ......................C=1, gamma=0.1, kernel=linear; total time=  18.2s\n",
      "[CV] END ......................C=1, gamma=0.1, kernel=linear; total time=  18.0s\n",
      "[CV] END ......................C=1, gamma=0.1, kernel=linear; total time=  18.0s\n",
      "[CV] END ......................C=1, gamma=0.1, kernel=linear; total time=  18.2s\n",
      "[CV] END ......................C=1, gamma=0.1, kernel=linear; total time=  18.2s\n",
      "[CV] END .........................C=1, gamma=0.1, kernel=rbf; total time=  21.8s\n",
      "[CV] END .........................C=1, gamma=0.1, kernel=rbf; total time=  21.4s\n",
      "[CV] END .........................C=1, gamma=0.1, kernel=rbf; total time=  21.5s\n",
      "[CV] END .........................C=1, gamma=0.1, kernel=rbf; total time=  21.4s\n",
      "[CV] END .........................C=1, gamma=0.1, kernel=rbf; total time=  21.4s\n",
      "[CV] END ....................C=1, gamma=0.001, kernel=linear; total time=  18.2s\n",
      "[CV] END ....................C=1, gamma=0.001, kernel=linear; total time=  18.1s\n",
      "[CV] END ....................C=1, gamma=0.001, kernel=linear; total time=  18.0s\n",
      "[CV] END ....................C=1, gamma=0.001, kernel=linear; total time=  18.2s\n",
      "[CV] END ....................C=1, gamma=0.001, kernel=linear; total time=  18.2s\n",
      "[CV] END .......................C=1, gamma=0.001, kernel=rbf; total time=  21.0s\n",
      "[CV] END .......................C=1, gamma=0.001, kernel=rbf; total time=  21.1s\n",
      "[CV] END .......................C=1, gamma=0.001, kernel=rbf; total time=  20.9s\n",
      "[CV] END .......................C=1, gamma=0.001, kernel=rbf; total time=  21.0s\n",
      "[CV] END .......................C=1, gamma=0.001, kernel=rbf; total time=  21.2s\n",
      "[CV] END ...................C=1, gamma=0.0001, kernel=linear; total time=  18.2s\n",
      "[CV] END ...................C=1, gamma=0.0001, kernel=linear; total time=  18.1s\n",
      "[CV] END ...................C=1, gamma=0.0001, kernel=linear; total time=  18.0s\n",
      "[CV] END ...................C=1, gamma=0.0001, kernel=linear; total time=  18.2s\n",
      "[CV] END ...................C=1, gamma=0.0001, kernel=linear; total time=  18.2s\n",
      "[CV] END ......................C=1, gamma=0.0001, kernel=rbf; total time=  20.5s\n",
      "[CV] END ......................C=1, gamma=0.0001, kernel=rbf; total time=  20.4s\n",
      "[CV] END ......................C=1, gamma=0.0001, kernel=rbf; total time=  20.3s\n",
      "[CV] END ......................C=1, gamma=0.0001, kernel=rbf; total time=  20.4s\n",
      "[CV] END ......................C=1, gamma=0.0001, kernel=rbf; total time=  20.5s\n",
      "[CV] END .......................C=10, gamma=1, kernel=linear; total time=  20.7s\n",
      "[CV] END .......................C=10, gamma=1, kernel=linear; total time=  20.6s\n",
      "[CV] END .......................C=10, gamma=1, kernel=linear; total time=  20.4s\n",
      "[CV] END .......................C=10, gamma=1, kernel=linear; total time=  20.4s\n",
      "[CV] END .......................C=10, gamma=1, kernel=linear; total time=  20.3s\n",
      "[CV] END ..........................C=10, gamma=1, kernel=rbf; total time=  28.9s\n",
      "[CV] END ..........................C=10, gamma=1, kernel=rbf; total time=  28.6s\n",
      "[CV] END ..........................C=10, gamma=1, kernel=rbf; total time=  28.6s\n",
      "[CV] END ..........................C=10, gamma=1, kernel=rbf; total time=  28.8s\n",
      "[CV] END ..........................C=10, gamma=1, kernel=rbf; total time=  28.8s\n",
      "[CV] END .....................C=10, gamma=0.1, kernel=linear; total time=  20.7s\n",
      "[CV] END .....................C=10, gamma=0.1, kernel=linear; total time=  20.6s\n",
      "[CV] END .....................C=10, gamma=0.1, kernel=linear; total time=  20.4s\n",
      "[CV] END .....................C=10, gamma=0.1, kernel=linear; total time=  20.3s\n",
      "[CV] END .....................C=10, gamma=0.1, kernel=linear; total time=  20.2s\n",
      "[CV] END ........................C=10, gamma=0.1, kernel=rbf; total time=  19.6s\n",
      "[CV] END ........................C=10, gamma=0.1, kernel=rbf; total time=  19.2s\n",
      "[CV] END ........................C=10, gamma=0.1, kernel=rbf; total time=  19.2s\n",
      "[CV] END ........................C=10, gamma=0.1, kernel=rbf; total time=  19.4s\n",
      "[CV] END ........................C=10, gamma=0.1, kernel=rbf; total time=  19.4s\n",
      "[CV] END ...................C=10, gamma=0.001, kernel=linear; total time=  20.7s\n",
      "[CV] END ...................C=10, gamma=0.001, kernel=linear; total time=  20.6s\n",
      "[CV] END ...................C=10, gamma=0.001, kernel=linear; total time=  20.6s\n",
      "[CV] END ...................C=10, gamma=0.001, kernel=linear; total time=  20.3s\n",
      "[CV] END ...................C=10, gamma=0.001, kernel=linear; total time=  20.3s\n",
      "[CV] END ......................C=10, gamma=0.001, kernel=rbf; total time=  21.8s\n",
      "[CV] END ......................C=10, gamma=0.001, kernel=rbf; total time=  21.8s\n",
      "[CV] END ......................C=10, gamma=0.001, kernel=rbf; total time=  21.8s\n",
      "[CV] END ......................C=10, gamma=0.001, kernel=rbf; total time=  21.9s\n",
      "[CV] END ......................C=10, gamma=0.001, kernel=rbf; total time=  21.9s\n",
      "[CV] END ..................C=10, gamma=0.0001, kernel=linear; total time=  20.9s\n",
      "[CV] END ..................C=10, gamma=0.0001, kernel=linear; total time=  20.8s\n",
      "[CV] END ..................C=10, gamma=0.0001, kernel=linear; total time=  20.4s\n",
      "[CV] END ..................C=10, gamma=0.0001, kernel=linear; total time=  20.4s\n",
      "[CV] END ..................C=10, gamma=0.0001, kernel=linear; total time=  20.3s\n",
      "[CV] END .....................C=10, gamma=0.0001, kernel=rbf; total time=  21.0s\n",
      "[CV] END .....................C=10, gamma=0.0001, kernel=rbf; total time=  21.0s\n",
      "[CV] END .....................C=10, gamma=0.0001, kernel=rbf; total time=  21.1s\n",
      "[CV] END .....................C=10, gamma=0.0001, kernel=rbf; total time=  21.0s\n",
      "[CV] END .....................C=10, gamma=0.0001, kernel=rbf; total time=  21.0s\n",
      "[CV] END ......................C=100, gamma=1, kernel=linear; total time=  21.3s\n",
      "[CV] END ......................C=100, gamma=1, kernel=linear; total time=  21.7s\n",
      "[CV] END ......................C=100, gamma=1, kernel=linear; total time=  21.8s\n",
      "[CV] END ......................C=100, gamma=1, kernel=linear; total time=  21.1s\n",
      "[CV] END ......................C=100, gamma=1, kernel=linear; total time=  22.2s\n",
      "[CV] END .........................C=100, gamma=1, kernel=rbf; total time=  28.8s\n",
      "[CV] END .........................C=100, gamma=1, kernel=rbf; total time=  28.6s\n",
      "[CV] END .........................C=100, gamma=1, kernel=rbf; total time=  28.5s\n",
      "[CV] END .........................C=100, gamma=1, kernel=rbf; total time=  28.6s\n",
      "[CV] END .........................C=100, gamma=1, kernel=rbf; total time=  28.7s\n",
      "[CV] END ....................C=100, gamma=0.1, kernel=linear; total time=  21.4s\n",
      "[CV] END ....................C=100, gamma=0.1, kernel=linear; total time=  21.7s\n",
      "[CV] END ....................C=100, gamma=0.1, kernel=linear; total time=  21.7s\n",
      "[CV] END ....................C=100, gamma=0.1, kernel=linear; total time=  21.0s\n",
      "[CV] END ....................C=100, gamma=0.1, kernel=linear; total time=  22.2s\n",
      "[CV] END .......................C=100, gamma=0.1, kernel=rbf; total time=  21.9s\n",
      "[CV] END .......................C=100, gamma=0.1, kernel=rbf; total time=  23.6s\n",
      "[CV] END .......................C=100, gamma=0.1, kernel=rbf; total time=  21.8s\n",
      "[CV] END .......................C=100, gamma=0.1, kernel=rbf; total time=  23.0s\n",
      "[CV] END .......................C=100, gamma=0.1, kernel=rbf; total time=  23.6s\n",
      "[CV] END ..................C=100, gamma=0.001, kernel=linear; total time=  21.4s\n",
      "[CV] END ..................C=100, gamma=0.001, kernel=linear; total time=  21.7s\n",
      "[CV] END ..................C=100, gamma=0.001, kernel=linear; total time=  21.7s\n",
      "[CV] END ..................C=100, gamma=0.001, kernel=linear; total time=  21.1s\n",
      "[CV] END ..................C=100, gamma=0.001, kernel=linear; total time=  22.2s\n",
      "[CV] END .....................C=100, gamma=0.001, kernel=rbf; total time=  21.0s\n",
      "[CV] END .....................C=100, gamma=0.001, kernel=rbf; total time=  20.9s\n",
      "[CV] END .....................C=100, gamma=0.001, kernel=rbf; total time=  20.9s\n",
      "[CV] END .....................C=100, gamma=0.001, kernel=rbf; total time=  21.0s\n",
      "[CV] END .....................C=100, gamma=0.001, kernel=rbf; total time=  20.9s\n",
      "[CV] END .................C=100, gamma=0.0001, kernel=linear; total time=  21.3s\n",
      "[CV] END .................C=100, gamma=0.0001, kernel=linear; total time=  21.7s\n",
      "[CV] END .................C=100, gamma=0.0001, kernel=linear; total time=  21.7s\n",
      "[CV] END .................C=100, gamma=0.0001, kernel=linear; total time=  21.1s\n",
      "[CV] END .................C=100, gamma=0.0001, kernel=linear; total time=  22.2s\n",
      "[CV] END ....................C=100, gamma=0.0001, kernel=rbf; total time=  21.8s\n",
      "[CV] END ....................C=100, gamma=0.0001, kernel=rbf; total time=  21.8s\n",
      "[CV] END ....................C=100, gamma=0.0001, kernel=rbf; total time=  21.8s\n",
      "[CV] END ....................C=100, gamma=0.0001, kernel=rbf; total time=  21.8s\n",
      "[CV] END ....................C=100, gamma=0.0001, kernel=rbf; total time=  21.8s\n",
      "[CV] END .....................C=1000, gamma=1, kernel=linear; total time=  21.5s\n",
      "[CV] END .....................C=1000, gamma=1, kernel=linear; total time=  22.0s\n",
      "[CV] END .....................C=1000, gamma=1, kernel=linear; total time=  21.5s\n",
      "[CV] END .....................C=1000, gamma=1, kernel=linear; total time=  20.9s\n",
      "[CV] END .....................C=1000, gamma=1, kernel=linear; total time=  22.5s\n",
      "[CV] END ........................C=1000, gamma=1, kernel=rbf; total time=  28.8s\n",
      "[CV] END ........................C=1000, gamma=1, kernel=rbf; total time=  28.6s\n",
      "[CV] END ........................C=1000, gamma=1, kernel=rbf; total time=  28.6s\n",
      "[CV] END ........................C=1000, gamma=1, kernel=rbf; total time=  28.6s\n",
      "[CV] END ........................C=1000, gamma=1, kernel=rbf; total time=  28.8s\n",
      "[CV] END ...................C=1000, gamma=0.1, kernel=linear; total time=  21.6s\n",
      "[CV] END ...................C=1000, gamma=0.1, kernel=linear; total time=  22.1s\n",
      "[CV] END ...................C=1000, gamma=0.1, kernel=linear; total time=  21.4s\n",
      "[CV] END ...................C=1000, gamma=0.1, kernel=linear; total time=  20.8s\n",
      "[CV] END ...................C=1000, gamma=0.1, kernel=linear; total time=  22.6s\n",
      "[CV] END ......................C=1000, gamma=0.1, kernel=rbf; total time=  21.9s\n",
      "[CV] END ......................C=1000, gamma=0.1, kernel=rbf; total time=  23.6s\n",
      "[CV] END ......................C=1000, gamma=0.1, kernel=rbf; total time=  23.5s\n",
      "[CV] END ......................C=1000, gamma=0.1, kernel=rbf; total time=  22.0s\n",
      "[CV] END ......................C=1000, gamma=0.1, kernel=rbf; total time=  22.8s\n",
      "[CV] END .................C=1000, gamma=0.001, kernel=linear; total time=  21.5s\n",
      "[CV] END .................C=1000, gamma=0.001, kernel=linear; total time=  22.0s\n",
      "[CV] END .................C=1000, gamma=0.001, kernel=linear; total time=  21.5s\n",
      "[CV] END .................C=1000, gamma=0.001, kernel=linear; total time=  20.8s\n",
      "[CV] END .................C=1000, gamma=0.001, kernel=linear; total time=  22.5s\n",
      "[CV] END ....................C=1000, gamma=0.001, kernel=rbf; total time=  19.1s\n",
      "[CV] END ....................C=1000, gamma=0.001, kernel=rbf; total time=  18.5s\n",
      "[CV] END ....................C=1000, gamma=0.001, kernel=rbf; total time=  18.3s\n",
      "[CV] END ....................C=1000, gamma=0.001, kernel=rbf; total time=  18.6s\n",
      "[CV] END ....................C=1000, gamma=0.001, kernel=rbf; total time=  18.8s\n",
      "[CV] END ................C=1000, gamma=0.0001, kernel=linear; total time=  21.8s\n",
      "[CV] END ................C=1000, gamma=0.0001, kernel=linear; total time=  22.0s\n",
      "[CV] END ................C=1000, gamma=0.0001, kernel=linear; total time=  21.5s\n",
      "[CV] END ................C=1000, gamma=0.0001, kernel=linear; total time=  20.8s\n",
      "[CV] END ................C=1000, gamma=0.0001, kernel=linear; total time=  22.5s\n",
      "[CV] END ...................C=1000, gamma=0.0001, kernel=rbf; total time=  21.0s\n",
      "[CV] END ...................C=1000, gamma=0.0001, kernel=rbf; total time=  20.9s\n",
      "[CV] END ...................C=1000, gamma=0.0001, kernel=rbf; total time=  20.9s\n",
      "[CV] END ...................C=1000, gamma=0.0001, kernel=rbf; total time=  20.9s\n",
      "[CV] END ...................C=1000, gamma=0.0001, kernel=rbf; total time=  21.0s\n",
      "Fitting SVC took 3533.81 seconds\n"
     ]
    }
   ],
   "execution_count": 30
  },
  {
   "metadata": {
    "ExecuteTime": {
     "end_time": "2024-08-19T14:52:04.650182Z",
     "start_time": "2024-08-19T14:51:57.527045Z"
    }
   },
   "cell_type": "code",
   "source": [
    "from sklearn.metrics import accuracy_score,confusion_matrix\n",
    "predictions = model.predict(x_test)\n",
    "print(\"Accuracy of model is {}%\".format(accuracy_score(y_test,predictions) * 100))"
   ],
   "id": "5be0f7cb8a8d321d",
   "outputs": [
    {
     "name": "stdout",
     "output_type": "stream",
     "text": [
      "Accuracy of model is 62.70797475616753%\n"
     ]
    }
   ],
   "execution_count": 31
  },
  {
   "metadata": {
    "ExecuteTime": {
     "end_time": "2024-08-19T14:52:04.655779Z",
     "start_time": "2024-08-19T14:52:04.651202Z"
    }
   },
   "cell_type": "code",
   "source": [
    "print(predictions)\n",
    "print(y_test)"
   ],
   "id": "8a24ba12d098e4de",
   "outputs": [
    {
     "name": "stdout",
     "output_type": "stream",
     "text": [
      "[2 4 0 ... 1 3 3]\n",
      "[2 4 0 ... 1 3 3]\n"
     ]
    }
   ],
   "execution_count": 32
  },
  {
   "metadata": {
    "ExecuteTime": {
     "end_time": "2024-08-19T14:52:06.739964Z",
     "start_time": "2024-08-19T14:52:04.655779Z"
    }
   },
   "cell_type": "code",
   "source": [
    "from matplotlib import pyplot as plt\n",
    "from sklearn.metrics import ConfusionMatrixDisplay\n",
    "\n",
    "y_pred = predictions\n",
    "\n",
    "y_true = y_test\n",
    "\n",
    "def map_func(x):\n",
    "    return x if str(x).isnumeric() else label_to_id_mapping.get(x, -1)\n",
    "\n",
    "y_true_mapped = np.vectorize(map_func)(y_true)\n",
    "y_pred_mapped = np.vectorize(map_func)(y_pred)\n",
    "\n",
    "# Calculate accuracy\n",
    "accuracy = accuracy_score(y_true=y_true_mapped, y_pred=y_pred_mapped)\n",
    "print(f'Accuracy: {accuracy:.3f}')\n",
    "\n",
    "# Generate accuracy report\n",
    "unique_labels = set(y_true_mapped)  # Get unique labels\n",
    "\n",
    "for label in unique_labels:\n",
    "    label_indices = [i for i in range(len(y_true_mapped)) if y_true_mapped[i] == label]\n",
    "    label_y_true = [y_true_mapped[i] for i in label_indices]\n",
    "    label_y_pred = [y_pred_mapped[i] for i in label_indices]\n",
    "    label_accuracy = accuracy_score(label_y_true, label_y_pred)\n",
    "    print(f'Accuracy for label {cefr_levels[label]}: {label_accuracy:.3f}')\n",
    "\n",
    "class_report = classification_report(y_true=y_true_mapped, y_pred=y_pred_mapped, target_names=cefr_levels, labels=list(range(len(cefr_levels))))\n",
    "class_report_dict = classification_report(y_true=y_true_mapped, y_pred=y_pred_mapped, target_names=cefr_levels, labels=list(range(len(cefr_levels))), output_dict=True)\n",
    "print('\\nClassification Report:')\n",
    "print(class_report)\n",
    "table_data = []\n",
    "\n",
    "for key, value in class_report_dict.items():\n",
    "    if isinstance(value, dict):\n",
    "        table_data.append([\n",
    "            key,\n",
    "            value.get(\"precision\", 0),\n",
    "            value.get(\"recall\", 0),\n",
    "            value.get(\"f1-score\", 0),\n",
    "            value.get(\"support\", 0)\n",
    "        ])\n",
    "    else:\n",
    "        # For accuracy, add precision and recall as 0\n",
    "        table_data.append([\n",
    "            key,\n",
    "            0,\n",
    "            0,\n",
    "            value,\n",
    "            class_report_dict[\"weighted avg\"][\"support\"]\n",
    "        ])\n",
    "\n",
    "# Generate confusion matrix\n",
    "conf_matrix = confusion_matrix(y_true=y_true_mapped, y_pred=y_pred_mapped, labels=list(range(len(cefr_levels))))\n",
    "disp = ConfusionMatrixDisplay(confusion_matrix=conf_matrix,\n",
    "                              display_labels=cefr_levels)\n",
    "disp.plot()\n",
    "\n",
    "\n",
    "print('\\nConfusion Matrix:')\n",
    "print(conf_matrix)\n",
    "\n",
    "wandb.log({\n",
    "    \"Class Proportions\": wandb.sklearn.plot_class_proportions(train_set['level'], test_set['level'], cefr_levels),\n",
    "    \"Confusion Matrix\": plt,\n",
    "    \"Classification Report\": wandb.Table(data=table_data, columns=['Class/Metric', 'Precision', 'Recall', 'F1-score', 'Support'])\n",
    "})"
   ],
   "id": "e8b335aa607b05b7",
   "outputs": [
    {
     "name": "stdout",
     "output_type": "stream",
     "text": [
      "Accuracy: 0.627\n",
      "Accuracy for label A1: 0.836\n",
      "Accuracy for label A2: 0.572\n",
      "Accuracy for label B1: 0.368\n",
      "Accuracy for label B2: 0.729\n",
      "Accuracy for label C1: 0.079\n",
      "Accuracy for label C2: 0.000\n",
      "\n",
      "Classification Report:\n",
      "              precision    recall  f1-score   support\n",
      "\n",
      "          A1       0.75      0.84      0.79      1678\n",
      "          A2       0.57      0.57      0.57      1445\n",
      "          B1       0.48      0.37      0.42       918\n",
      "          B2       0.59      0.73      0.65       954\n",
      "          C1       0.53      0.08      0.14       227\n",
      "          C2       0.00      0.00      0.00         7\n",
      "\n",
      "    accuracy                           0.63      5229\n",
      "   macro avg       0.49      0.43      0.43      5229\n",
      "weighted avg       0.61      0.63      0.61      5229\n",
      "\n",
      "\n",
      "Confusion Matrix:\n",
      "[[1402  250   15   11    0    0]\n",
      " [ 414  826  162   43    0    0]\n",
      " [  31  331  338  217    1    0]\n",
      " [  13   46  185  695   15    0]\n",
      " [   0    4    9  196   18    0]\n",
      " [   0    0    0    7    0    0]]\n"
     ]
    },
    {
     "name": "stderr",
     "output_type": "stream",
     "text": [
      "C:\\Users\\kawis\\anaconda3\\Lib\\site-packages\\sklearn\\metrics\\_classification.py:1531: UndefinedMetricWarning: Precision is ill-defined and being set to 0.0 in labels with no predicted samples. Use `zero_division` parameter to control this behavior.\n",
      "  _warn_prf(average, modifier, f\"{metric.capitalize()} is\", len(result))\n",
      "C:\\Users\\kawis\\anaconda3\\Lib\\site-packages\\sklearn\\metrics\\_classification.py:1531: UndefinedMetricWarning: Precision is ill-defined and being set to 0.0 in labels with no predicted samples. Use `zero_division` parameter to control this behavior.\n",
      "  _warn_prf(average, modifier, f\"{metric.capitalize()} is\", len(result))\n",
      "C:\\Users\\kawis\\anaconda3\\Lib\\site-packages\\sklearn\\metrics\\_classification.py:1531: UndefinedMetricWarning: Precision is ill-defined and being set to 0.0 in labels with no predicted samples. Use `zero_division` parameter to control this behavior.\n",
      "  _warn_prf(average, modifier, f\"{metric.capitalize()} is\", len(result))\n",
      "C:\\Users\\kawis\\anaconda3\\Lib\\site-packages\\sklearn\\metrics\\_classification.py:1531: UndefinedMetricWarning: Precision is ill-defined and being set to 0.0 in labels with no predicted samples. Use `zero_division` parameter to control this behavior.\n",
      "  _warn_prf(average, modifier, f\"{metric.capitalize()} is\", len(result))\n",
      "C:\\Users\\kawis\\anaconda3\\Lib\\site-packages\\sklearn\\metrics\\_classification.py:1531: UndefinedMetricWarning: Precision is ill-defined and being set to 0.0 in labels with no predicted samples. Use `zero_division` parameter to control this behavior.\n",
      "  _warn_prf(average, modifier, f\"{metric.capitalize()} is\", len(result))\n",
      "C:\\Users\\kawis\\anaconda3\\Lib\\site-packages\\sklearn\\metrics\\_classification.py:1531: UndefinedMetricWarning: Precision is ill-defined and being set to 0.0 in labels with no predicted samples. Use `zero_division` parameter to control this behavior.\n",
      "  _warn_prf(average, modifier, f\"{metric.capitalize()} is\", len(result))\n"
     ]
    },
    {
     "data": {
      "text/plain": [
       "<Figure size 640x480 with 2 Axes>"
      ],
      "image/png": "[encoded data removed]"
     },
     "metadata": {},
     "output_type": "display_data"
    }
   ],
   "execution_count": 33
  },
  {
   "metadata": {
    "ExecuteTime": {
     "end_time": "2024-08-19T14:52:24.684479Z",
     "start_time": "2024-08-19T14:52:06.740471Z"
    }
   },
   "cell_type": "code",
   "source": "wandb.finish()",
   "id": "b6f73ad484d424a7",
   "outputs": [
    {
     "data": {
      "text/plain": [
       "VBox(children=(Label(value='0.033 MB of 0.033 MB uploaded\\r'), FloatProgress(value=1.0, max=1.0)))"
      ],
      "application/vnd.jupyter.widget-view+json": {
       "version_major": 2,
       "version_minor": 0,
       "model_id": "7aa1e77988c44affa5a968a8a9f5664c"
      }
     },
     "metadata": {},
     "output_type": "display_data"
    },
    {
     "data": {
      "text/plain": [
       "<IPython.core.display.HTML object>"
      ],
      "text/html": [
       "W&B sync reduced upload amount by 9.1%"
      ]
     },
     "metadata": {},
     "output_type": "display_data"
    },
    {
     "data": {
      "text/plain": [
       "<IPython.core.display.HTML object>"
      ],
      "text/html": [
       " View run <strong style=\"color:#cdcd00\">toasty-flower-38</strong> at: <a href='https://wandb.ai/kawishbit-org/wz_experimental/runs/vl96wjcw' target=\"_blank\">https://wandb.ai/kawishbit-org/wz_experimental/runs/vl96wjcw</a><br/> View project at: <a href='https://wandb.ai/kawishbit-org/wz_experimental' target=\"_blank\">https://wandb.ai/kawishbit-org/wz_experimental</a><br/>Synced 6 W&B file(s), 3 media file(s), 4 artifact file(s) and 0 other file(s)"
      ]
     },
     "metadata": {},
     "output_type": "display_data"
    },
    {
     "data": {
      "text/plain": [
       "<IPython.core.display.HTML object>"
      ],
      "text/html": [
       "Find logs at: <code>.\\wandb\\run-20240819_205243-vl96wjcw\\logs</code>"
      ]
     },
     "metadata": {},
     "output_type": "display_data"
    },
    {
     "data": {
      "text/plain": [
       "<IPython.core.display.HTML object>"
      ],
      "text/html": [
       "The new W&B backend becomes opt-out in version 0.18.0; try it out with `wandb.require(\"core\")`! See https://wandb.me/wandb-core for more information."
      ]
     },
     "metadata": {},
     "output_type": "display_data"
    }
   ],
   "execution_count": 34
  },
  {
   "metadata": {
    "ExecuteTime": {
     "end_time": "2024-08-19T14:52:24.687507Z",
     "start_time": "2024-08-19T14:52:24.684479Z"
    }
   },
   "cell_type": "code",
   "source": "",
   "id": "2982d1242dd27da0",
   "outputs": [],
   "execution_count": 34
  },
  {
   "metadata": {
    "ExecuteTime": {
     "end_time": "2024-08-19T14:52:24.690586Z",
     "start_time": "2024-08-19T14:52:24.688018Z"
    }
   },
   "cell_type": "code",
   "source": "",
   "id": "c826db4500c68d18",
   "outputs": [],
   "execution_count": 34
  }
 ],
 "metadata": {
  "kernelspec": {
   "display_name": "Python 3",
   "language": "python",
   "name": "python3"
  },
  "language_info": {
   "codemirror_mode": {
    "name": "ipython",
    "version": 2
   },
   "file_extension": ".py",
   "mimetype": "text/x-python",
   "name": "python",
   "nbconvert_exporter": "python",
   "pygments_lexer": "ipython2",
   "version": "2.7.6"
  }
 },
 "nbformat": 4,
 "nbformat_minor": 5
}
