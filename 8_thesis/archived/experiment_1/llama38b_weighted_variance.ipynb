{
 "cells": [
  {
   "metadata": {},
   "cell_type": "markdown",
   "source": "# LLaMA 3 8B Text Classification Without QLoRA ",
   "id": "39a0ba12d8056425"
  },
  {
   "metadata": {
    "ExecuteTime": {
     "end_time": "2024-08-18T08:48:05.450957Z",
     "start_time": "2024-08-18T08:48:00.316135Z"
    }
   },
   "cell_type": "code",
   "source": [
    "import pandas as pd\n",
    "import torch\n",
    "import json\n",
    "import wandb\n",
    "from transformers import BitsAndBytesConfig, AutoModelForSequenceClassification, AutoTokenizer\n",
    "from peft import LoraConfig, prepare_model_for_kbit_training, get_peft_model\n",
    "from sklearn.metrics import accuracy_score, confusion_matrix\n",
    "from sklearn.metrics import classification_report\n",
    "from datasets import DatasetDict\n",
    "import datetime"
   ],
   "id": "7463d0d7c13ad577",
   "outputs": [],
   "execution_count": 1
  },
  {
   "metadata": {
    "ExecuteTime": {
     "end_time": "2024-08-18T08:48:15.696136Z",
     "start_time": "2024-08-18T08:48:05.451465Z"
    }
   },
   "cell_type": "code",
   "source": [
    "config_data = json.load(open('../config.json'))\n",
    "HF_TOKEN = config_data['HF_TOKEN']\n",
    "WANDB_TOKEN = config_data['WANDB_TOKEN']\n",
    "\n",
    "wandb.login(key=WANDB_TOKEN)\n",
    "\n",
    "run = wandb.init(\n",
    "    project='wz_experimental',\n",
    "    config={\"model_name\": \"Meta-Llama-3-8B\"}\n",
    ")"
   ],
   "id": "1ebf604e71c6797b",
   "outputs": [
    {
     "name": "stderr",
     "output_type": "stream",
     "text": [
      "\u001B[34m\u001B[1mwandb\u001B[0m: Currently logged in as: \u001B[33mkawishbit\u001B[0m (\u001B[33mkawishbit-org\u001B[0m). Use \u001B[1m`wandb login --relogin`\u001B[0m to force relogin\n",
      "\u001B[34m\u001B[1mwandb\u001B[0m: \u001B[33mWARNING\u001B[0m If you're specifying your api key in code, ensure this code is not shared publicly.\n",
      "\u001B[34m\u001B[1mwandb\u001B[0m: \u001B[33mWARNING\u001B[0m Consider setting the WANDB_API_KEY environment variable, or running `wandb login` from the command line.\n",
      "\u001B[34m\u001B[1mwandb\u001B[0m: Appending key for api.wandb.ai to your netrc file: C:\\Users\\kawis\\_netrc\n"
     ]
    },
    {
     "data": {
      "text/plain": [
       "<IPython.core.display.HTML object>"
      ],
      "text/html": [
       "wandb version 0.17.7 is available!  To upgrade, please run:\n",
       " $ pip install wandb --upgrade"
      ]
     },
     "metadata": {},
     "output_type": "display_data"
    },
    {
     "data": {
      "text/plain": [
       "<IPython.core.display.HTML object>"
      ],
      "text/html": [
       "Tracking run with wandb version 0.17.6"
      ]
     },
     "metadata": {},
     "output_type": "display_data"
    },
    {
     "data": {
      "text/plain": [
       "<IPython.core.display.HTML object>"
      ],
      "text/html": [
       "Run data is saved locally in <code>E:\\repositories\\unirepo\\8_thesis\\experiment_1\\wandb\\run-20240818_154808-hzsj9tho</code>"
      ]
     },
     "metadata": {},
     "output_type": "display_data"
    },
    {
     "data": {
      "text/plain": [
       "<IPython.core.display.HTML object>"
      ],
      "text/html": [
       "Syncing run <strong><a href='https://wandb.ai/kawishbit-org/wz_experimental/runs/hzsj9tho' target=\"_blank\">misty-tree-20</a></strong> to <a href='https://wandb.ai/kawishbit-org/wz_experimental' target=\"_blank\">Weights & Biases</a> (<a href='https://wandb.me/run' target=\"_blank\">docs</a>)<br/>"
      ]
     },
     "metadata": {},
     "output_type": "display_data"
    },
    {
     "data": {
      "text/plain": [
       "<IPython.core.display.HTML object>"
      ],
      "text/html": [
       " View project at <a href='https://wandb.ai/kawishbit-org/wz_experimental' target=\"_blank\">https://wandb.ai/kawishbit-org/wz_experimental</a>"
      ]
     },
     "metadata": {},
     "output_type": "display_data"
    },
    {
     "data": {
      "text/plain": [
       "<IPython.core.display.HTML object>"
      ],
      "text/html": [
       " View run at <a href='https://wandb.ai/kawishbit-org/wz_experimental/runs/hzsj9tho' target=\"_blank\">https://wandb.ai/kawishbit-org/wz_experimental/runs/hzsj9tho</a>"
      ]
     },
     "metadata": {},
     "output_type": "display_data"
    }
   ],
   "execution_count": 2
  },
  {
   "metadata": {
    "ExecuteTime": {
     "end_time": "2024-08-18T08:48:15.700193Z",
     "start_time": "2024-08-18T08:48:15.696644Z"
    }
   },
   "cell_type": "code",
   "source": [
    "id_to_label_mapping = {0: 'A1', 1: 'A2', 2: 'B1', 3: 'B2', 4: 'C1', 5: 'C2'}\n",
    "label_to_id_mapping = {'A1': 0, 'A2': 1, 'B1': 2, 'B2': 3, 'C1': 4, 'C2': 5}\n",
    "cefr_levels = [\"A1\", \"A2\", \"B1\", \"B2\", \"C1\", \"C2\"]"
   ],
   "id": "a61138961831c00f",
   "outputs": [],
   "execution_count": 3
  },
  {
   "metadata": {
    "ExecuteTime": {
     "end_time": "2024-08-18T08:48:15.771595Z",
     "start_time": "2024-08-18T08:48:15.700193Z"
    }
   },
   "cell_type": "code",
   "source": [
    "train = pd.read_csv('../datasets/quotes/quotes_train.csv')\n",
    "test = pd.read_csv('../datasets/quotes/quotes_test.csv')\n",
    "validation = train.sample(2091, random_state=42)\n",
    "train = train.drop(validation.index)\n",
    "\n",
    "train = train.sample(frac=1).reset_index(drop=True)\n",
    "test = test.sample(frac=1).reset_index(drop=True)\n",
    "validation = validation.sample(frac=1).reset_index(drop=True)"
   ],
   "id": "108ace26043d594a",
   "outputs": [],
   "execution_count": 4
  },
  {
   "metadata": {
    "ExecuteTime": {
     "end_time": "2024-08-18T08:48:15.780172Z",
     "start_time": "2024-08-18T08:48:15.772114Z"
    }
   },
   "cell_type": "code",
   "source": "train.head()",
   "id": "788ed9fbae0c2237",
   "outputs": [
    {
     "data": {
      "text/plain": [
       "                                                text  label level\n",
       "0  if there is a soul  then it is a mistake to th...      1    A2\n",
       "1  psychological trauma is an affliction of the p...      3    B2\n",
       "2  even the ugliest swan is still more beautiful ...      2    B1\n",
       "3  a writer looks at an issue and asks  what if t...      1    A2\n",
       "4  conflict forces us to be fully present because...      3    B2"
      ],
      "text/html": [
       "<div>\n",
       "<style scoped>\n",
       "    .dataframe tbody tr th:only-of-type {\n",
       "        vertical-align: middle;\n",
       "    }\n",
       "\n",
       "    .dataframe tbody tr th {\n",
       "        vertical-align: top;\n",
       "    }\n",
       "\n",
       "    .dataframe thead th {\n",
       "        text-align: right;\n",
       "    }\n",
       "</style>\n",
       "<table border=\"1\" class=\"dataframe\">\n",
       "  <thead>\n",
       "    <tr style=\"text-align: right;\">\n",
       "      <th></th>\n",
       "      <th>text</th>\n",
       "      <th>label</th>\n",
       "      <th>level</th>\n",
       "    </tr>\n",
       "  </thead>\n",
       "  <tbody>\n",
       "    <tr>\n",
       "      <th>0</th>\n",
       "      <td>if there is a soul  then it is a mistake to th...</td>\n",
       "      <td>1</td>\n",
       "      <td>A2</td>\n",
       "    </tr>\n",
       "    <tr>\n",
       "      <th>1</th>\n",
       "      <td>psychological trauma is an affliction of the p...</td>\n",
       "      <td>3</td>\n",
       "      <td>B2</td>\n",
       "    </tr>\n",
       "    <tr>\n",
       "      <th>2</th>\n",
       "      <td>even the ugliest swan is still more beautiful ...</td>\n",
       "      <td>2</td>\n",
       "      <td>B1</td>\n",
       "    </tr>\n",
       "    <tr>\n",
       "      <th>3</th>\n",
       "      <td>a writer looks at an issue and asks  what if t...</td>\n",
       "      <td>1</td>\n",
       "      <td>A2</td>\n",
       "    </tr>\n",
       "    <tr>\n",
       "      <th>4</th>\n",
       "      <td>conflict forces us to be fully present because...</td>\n",
       "      <td>3</td>\n",
       "      <td>B2</td>\n",
       "    </tr>\n",
       "  </tbody>\n",
       "</table>\n",
       "</div>"
      ]
     },
     "execution_count": 5,
     "metadata": {},
     "output_type": "execute_result"
    }
   ],
   "execution_count": 5
  },
  {
   "metadata": {
    "ExecuteTime": {
     "end_time": "2024-08-18T08:48:15.788843Z",
     "start_time": "2024-08-18T08:48:15.781685Z"
    }
   },
   "cell_type": "code",
   "source": "test.head()",
   "id": "6ffa5abe1a31c839",
   "outputs": [
    {
     "data": {
      "text/plain": [
       "                                                text  label level\n",
       "0  youre the optimist all the way through  preten...      1    A2\n",
       "1  the truth is  most of the genuinely tragic epi...      1    A2\n",
       "2  i mean  the shoe  there is a music to it  ther...      0    A1\n",
       "3  law and order are the medicine of the politic ...      1    A2\n",
       "4  presidents have absolutely gone against the wi...      2    B1"
      ],
      "text/html": [
       "<div>\n",
       "<style scoped>\n",
       "    .dataframe tbody tr th:only-of-type {\n",
       "        vertical-align: middle;\n",
       "    }\n",
       "\n",
       "    .dataframe tbody tr th {\n",
       "        vertical-align: top;\n",
       "    }\n",
       "\n",
       "    .dataframe thead th {\n",
       "        text-align: right;\n",
       "    }\n",
       "</style>\n",
       "<table border=\"1\" class=\"dataframe\">\n",
       "  <thead>\n",
       "    <tr style=\"text-align: right;\">\n",
       "      <th></th>\n",
       "      <th>text</th>\n",
       "      <th>label</th>\n",
       "      <th>level</th>\n",
       "    </tr>\n",
       "  </thead>\n",
       "  <tbody>\n",
       "    <tr>\n",
       "      <th>0</th>\n",
       "      <td>youre the optimist all the way through  preten...</td>\n",
       "      <td>1</td>\n",
       "      <td>A2</td>\n",
       "    </tr>\n",
       "    <tr>\n",
       "      <th>1</th>\n",
       "      <td>the truth is  most of the genuinely tragic epi...</td>\n",
       "      <td>1</td>\n",
       "      <td>A2</td>\n",
       "    </tr>\n",
       "    <tr>\n",
       "      <th>2</th>\n",
       "      <td>i mean  the shoe  there is a music to it  ther...</td>\n",
       "      <td>0</td>\n",
       "      <td>A1</td>\n",
       "    </tr>\n",
       "    <tr>\n",
       "      <th>3</th>\n",
       "      <td>law and order are the medicine of the politic ...</td>\n",
       "      <td>1</td>\n",
       "      <td>A2</td>\n",
       "    </tr>\n",
       "    <tr>\n",
       "      <th>4</th>\n",
       "      <td>presidents have absolutely gone against the wi...</td>\n",
       "      <td>2</td>\n",
       "      <td>B1</td>\n",
       "    </tr>\n",
       "  </tbody>\n",
       "</table>\n",
       "</div>"
      ]
     },
     "execution_count": 6,
     "metadata": {},
     "output_type": "execute_result"
    }
   ],
   "execution_count": 6
  },
  {
   "metadata": {
    "ExecuteTime": {
     "end_time": "2024-08-18T08:48:15.795765Z",
     "start_time": "2024-08-18T08:48:15.789861Z"
    }
   },
   "cell_type": "code",
   "source": "validation.head()",
   "id": "6ebd41d88ea697f8",
   "outputs": [
    {
     "data": {
      "text/plain": [
       "                                                text  label level\n",
       "0  he is really not so ugly after all  provided  ...      0    A1\n",
       "1  solitude  a time for memories  a time to dream...      3    B2\n",
       "2  knowing your real life purpose makes you clear...      1    A2\n",
       "3  if you can persist your originality at every s...      3    B2\n",
       "4  be true to yourself  be positive  always keep ...      2    B1"
      ],
      "text/html": [
       "<div>\n",
       "<style scoped>\n",
       "    .dataframe tbody tr th:only-of-type {\n",
       "        vertical-align: middle;\n",
       "    }\n",
       "\n",
       "    .dataframe tbody tr th {\n",
       "        vertical-align: top;\n",
       "    }\n",
       "\n",
       "    .dataframe thead th {\n",
       "        text-align: right;\n",
       "    }\n",
       "</style>\n",
       "<table border=\"1\" class=\"dataframe\">\n",
       "  <thead>\n",
       "    <tr style=\"text-align: right;\">\n",
       "      <th></th>\n",
       "      <th>text</th>\n",
       "      <th>label</th>\n",
       "      <th>level</th>\n",
       "    </tr>\n",
       "  </thead>\n",
       "  <tbody>\n",
       "    <tr>\n",
       "      <th>0</th>\n",
       "      <td>he is really not so ugly after all  provided  ...</td>\n",
       "      <td>0</td>\n",
       "      <td>A1</td>\n",
       "    </tr>\n",
       "    <tr>\n",
       "      <th>1</th>\n",
       "      <td>solitude  a time for memories  a time to dream...</td>\n",
       "      <td>3</td>\n",
       "      <td>B2</td>\n",
       "    </tr>\n",
       "    <tr>\n",
       "      <th>2</th>\n",
       "      <td>knowing your real life purpose makes you clear...</td>\n",
       "      <td>1</td>\n",
       "      <td>A2</td>\n",
       "    </tr>\n",
       "    <tr>\n",
       "      <th>3</th>\n",
       "      <td>if you can persist your originality at every s...</td>\n",
       "      <td>3</td>\n",
       "      <td>B2</td>\n",
       "    </tr>\n",
       "    <tr>\n",
       "      <th>4</th>\n",
       "      <td>be true to yourself  be positive  always keep ...</td>\n",
       "      <td>2</td>\n",
       "      <td>B1</td>\n",
       "    </tr>\n",
       "  </tbody>\n",
       "</table>\n",
       "</div>"
      ]
     },
     "execution_count": 7,
     "metadata": {},
     "output_type": "execute_result"
    }
   ],
   "execution_count": 7
  },
  {
   "metadata": {
    "ExecuteTime": {
     "end_time": "2024-08-18T08:48:15.803377Z",
     "start_time": "2024-08-18T08:48:15.796793Z"
    }
   },
   "cell_type": "code",
   "source": "train.label.value_counts(normalize=True)",
   "id": "db102f538d2886ea",
   "outputs": [
    {
     "data": {
      "text/plain": [
       "label\n",
       "0    0.320707\n",
       "1    0.278053\n",
       "2    0.178053\n",
       "3    0.176255\n",
       "4    0.045257\n",
       "5    0.001674\n",
       "Name: proportion, dtype: float64"
      ]
     },
     "execution_count": 8,
     "metadata": {},
     "output_type": "execute_result"
    }
   ],
   "execution_count": 8
  },
  {
   "metadata": {
    "ExecuteTime": {
     "end_time": "2024-08-18T08:48:15.866171Z",
     "start_time": "2024-08-18T08:48:15.803880Z"
    }
   },
   "cell_type": "code",
   "source": [
    "class_weights=(1/train.label.value_counts(normalize=True).sort_index()).tolist()\n",
    "class_weights=torch.tensor(class_weights)\n",
    "class_weights=class_weights/class_weights.sum()\n",
    "class_weights"
   ],
   "id": "7e01995747a07719",
   "outputs": [
    {
     "data": {
      "text/plain": [
       "tensor([0.0049, 0.0056, 0.0088, 0.0089, 0.0347, 0.9371])"
      ]
     },
     "execution_count": 9,
     "metadata": {},
     "output_type": "execute_result"
    }
   ],
   "execution_count": 9
  },
  {
   "metadata": {
    "ExecuteTime": {
     "end_time": "2024-08-18T08:48:15.869871Z",
     "start_time": "2024-08-18T08:48:15.867183Z"
    }
   },
   "cell_type": "code",
   "source": "model_name = \"meta-llama/Meta-Llama-3-8B\"",
   "id": "bcaa7c0f3353a17",
   "outputs": [],
   "execution_count": 10
  },
  {
   "metadata": {
    "ExecuteTime": {
     "end_time": "2024-08-18T08:48:15.875955Z",
     "start_time": "2024-08-18T08:48:15.870382Z"
    }
   },
   "cell_type": "code",
   "source": [
    "quantization_config = BitsAndBytesConfig(\n",
    "    load_in_4bit = True,\n",
    "    bnb_4bit_quant_type = 'nf4',\n",
    "    bnb_4bit_use_double_quant = True,\n",
    "    bnb_4bit_compute_dtype = torch.bfloat16\n",
    ")"
   ],
   "id": "a13343f6a5325713",
   "outputs": [],
   "execution_count": 11
  },
  {
   "metadata": {
    "ExecuteTime": {
     "end_time": "2024-08-18T08:48:15.881520Z",
     "start_time": "2024-08-18T08:48:15.876959Z"
    }
   },
   "cell_type": "code",
   "source": [
    "lora_config = LoraConfig(\n",
    "    r=8,\n",
    "    lora_alpha=8,\n",
    "    lora_dropout=0.0,\n",
    "    target_modules = ['down_proj', 'gate_proj', 'o_proj', 'v_proj', 'up_proj', 'q_proj', 'k_proj'],\n",
    "    bias = 'none',\n",
    "    task_type = 'SEQ_CLS'\n",
    ")"
   ],
   "id": "55c1f1b084365e9",
   "outputs": [],
   "execution_count": 12
  },
  {
   "metadata": {
    "ExecuteTime": {
     "end_time": "2024-08-18T08:48:35.470930Z",
     "start_time": "2024-08-18T08:48:15.882031Z"
    }
   },
   "cell_type": "code",
   "source": [
    "model = AutoModelForSequenceClassification.from_pretrained(\n",
    "    model_name,\n",
    "    quantization_config=quantization_config,\n",
    "    num_labels=6,\n",
    "    device_map=None,\n",
    "    resume_download=None,\n",
    "    low_cpu_mem_usage=True\n",
    ")"
   ],
   "id": "cfec6a74202bea9e",
   "outputs": [
    {
     "data": {
      "text/plain": [
       "Loading checkpoint shards:   0%|          | 0/4 [00:00<?, ?it/s]"
      ],
      "application/vnd.jupyter.widget-view+json": {
       "version_major": 2,
       "version_minor": 0,
       "model_id": "262f68fff82d4bf9bf0ce0aa1e8df55b"
      }
     },
     "metadata": {},
     "output_type": "display_data"
    },
    {
     "name": "stderr",
     "output_type": "stream",
     "text": [
      "Some weights of LlamaForSequenceClassification were not initialized from the model checkpoint at meta-llama/Meta-Llama-3-8B and are newly initialized: ['score.weight']\n",
      "You should probably TRAIN this model on a down-stream task to be able to use it for predictions and inference.\n"
     ]
    }
   ],
   "execution_count": 13
  },
  {
   "metadata": {
    "ExecuteTime": {
     "end_time": "2024-08-18T08:48:35.536231Z",
     "start_time": "2024-08-18T08:48:35.471440Z"
    }
   },
   "cell_type": "code",
   "source": "model = prepare_model_for_kbit_training(model)",
   "id": "9502446314aa1007",
   "outputs": [],
   "execution_count": 14
  },
  {
   "metadata": {
    "ExecuteTime": {
     "end_time": "2024-08-18T08:48:35.769389Z",
     "start_time": "2024-08-18T08:48:35.536740Z"
    }
   },
   "cell_type": "code",
   "source": "model = get_peft_model(model, lora_config)",
   "id": "c3176b45ff749bd6",
   "outputs": [],
   "execution_count": 15
  },
  {
   "metadata": {
    "ExecuteTime": {
     "end_time": "2024-08-18T08:48:35.780078Z",
     "start_time": "2024-08-18T08:48:35.769892Z"
    }
   },
   "cell_type": "code",
   "source": "model.gradient_checkpointing_enable()",
   "id": "d4a2ce22c6615659",
   "outputs": [],
   "execution_count": 16
  },
  {
   "metadata": {
    "ExecuteTime": {
     "end_time": "2024-08-18T08:48:36.240327Z",
     "start_time": "2024-08-18T08:48:35.781593Z"
    }
   },
   "cell_type": "code",
   "source": [
    "tokenizer = AutoTokenizer.from_pretrained(\n",
    "    model_name,\n",
    "    resume_download=None,\n",
    "    add_prefix_space=True\n",
    ")\n",
    "\n",
    "tokenizer.pad_token_id = tokenizer.eos_token_id\n",
    "tokenizer.pad_token = tokenizer.eos_token"
   ],
   "id": "ac8fc29bc6ad81a7",
   "outputs": [
    {
     "name": "stderr",
     "output_type": "stream",
     "text": [
      "Special tokens have been added in the vocabulary, make sure the associated word embeddings are fine-tuned or trained.\n"
     ]
    }
   ],
   "execution_count": 17
  },
  {
   "metadata": {
    "ExecuteTime": {
     "end_time": "2024-08-18T08:48:36.245932Z",
     "start_time": "2024-08-18T08:48:36.242370Z"
    }
   },
   "cell_type": "code",
   "source": [
    "model.config.pad_token_id = tokenizer.pad_token_id\n",
    "model.config.use_cache = False\n",
    "model.config.pretraining_tp = 1"
   ],
   "id": "db3498982cf711e5",
   "outputs": [],
   "execution_count": 18
  },
  {
   "metadata": {
    "ExecuteTime": {
     "end_time": "2024-08-18T08:48:36.251527Z",
     "start_time": "2024-08-18T08:48:36.246441Z"
    }
   },
   "cell_type": "code",
   "source": [
    "sentences = test.text.tolist()\n",
    "sentences[0:2]"
   ],
   "id": "67e8523efa01210d",
   "outputs": [
    {
     "data": {
      "text/plain": [
       "['youre the optimist all the way through  pretending to be a pessimist on the inside  because you can act like it hurts less if you say you knew all along it was going to go down like that',\n",
       " 'the truth is  most of the genuinely tragic episodes of lost food are things that are somewhat outside the reach of the home cook  even a home cook like me who has been known to overreach from time to time']"
      ]
     },
     "execution_count": 19,
     "metadata": {},
     "output_type": "execute_result"
    }
   ],
   "execution_count": 19
  },
  {
   "metadata": {
    "ExecuteTime": {
     "end_time": "2024-08-18T08:57:42.588902Z",
     "start_time": "2024-08-18T08:48:36.252549Z"
    }
   },
   "cell_type": "code",
   "source": [
    "print(f'Started prediction at {datetime.datetime.now()}')\n",
    "sentences = test.text.tolist()\n",
    "\n",
    "batch_size = 32\n",
    "\n",
    "all_outputs = []\n",
    "\n",
    "for i in range(0, len(sentences), batch_size):\n",
    "    batch_sentences = sentences[i:i + batch_size]\n",
    "\n",
    "    inputs = tokenizer(batch_sentences, return_tensors=\"pt\",\n",
    "                       padding=True, truncation=True, max_length=512)\n",
    "\n",
    "    inputs = {k: v.to('cuda' if torch.cuda.is_available() else 'cpu') for k, v in inputs.items()}\n",
    "\n",
    "    with torch.no_grad():\n",
    "        outputs = model(**inputs)\n",
    "        all_outputs.append(outputs['logits'])"
   ],
   "id": "1729a679f72da01e",
   "outputs": [
    {
     "name": "stdout",
     "output_type": "stream",
     "text": [
      "Started prediction at 2024-08-18 15:48:36.254586\n"
     ]
    },
    {
     "name": "stderr",
     "output_type": "stream",
     "text": [
      "C:\\Users\\kawis\\anaconda3\\Lib\\site-packages\\transformers\\models\\llama\\modeling_llama.py:671: UserWarning: 1Torch was not compiled with flash attention. (Triggered internally at C:\\actions-runner\\_work\\pytorch\\pytorch\\builder\\windows\\pytorch\\aten\\src\\ATen\\native\\transformers\\cuda\\sdp_utils.cpp:555.)\n",
      "  attn_output = torch.nn.functional.scaled_dot_product_attention(\n"
     ]
    }
   ],
   "execution_count": 20
  },
  {
   "metadata": {
    "ExecuteTime": {
     "end_time": "2024-08-18T08:57:42.882377Z",
     "start_time": "2024-08-18T08:57:42.589905Z"
    }
   },
   "cell_type": "code",
   "source": [
    "final_outputs = torch.cat(all_outputs, dim=0)\n",
    "final_outputs"
   ],
   "id": "d954324c86c22b0d",
   "outputs": [
    {
     "data": {
      "text/plain": [
       "tensor([[-0.9528,  1.1304, -9.7706,  0.6373,  1.5618,  2.9230],\n",
       "        [-0.3459,  1.8187, -3.2235, -0.3816,  0.2048,  4.7665],\n",
       "        [ 0.6283,  4.2588, -4.0008,  0.4230, -6.1034,  1.5827],\n",
       "        ...,\n",
       "        [ 1.1090, -2.7579, -2.5833, -0.4906,  2.2061,  1.3668],\n",
       "        [ 0.1268, -0.5924, -4.8288,  0.0187, -2.1031,  1.4866],\n",
       "        [-0.2208,  0.2844, -4.5785, -2.8347,  2.2680,  1.4909]],\n",
       "       device='cuda:0')"
      ]
     },
     "execution_count": 21,
     "metadata": {},
     "output_type": "execute_result"
    }
   ],
   "execution_count": 21
  },
  {
   "metadata": {
    "ExecuteTime": {
     "end_time": "2024-08-18T08:57:42.888128Z",
     "start_time": "2024-08-18T08:57:42.883380Z"
    }
   },
   "cell_type": "code",
   "source": "final_outputs.argmax(axis=1)",
   "id": "b97d9ab8e9c12c2e",
   "outputs": [
    {
     "data": {
      "text/plain": [
       "tensor([5, 5, 1,  ..., 4, 5, 4], device='cuda:0')"
      ]
     },
     "execution_count": 22,
     "metadata": {},
     "output_type": "execute_result"
    }
   ],
   "execution_count": 22
  },
  {
   "metadata": {
    "ExecuteTime": {
     "end_time": "2024-08-18T08:57:42.895144Z",
     "start_time": "2024-08-18T08:57:42.888232Z"
    }
   },
   "cell_type": "code",
   "source": [
    "test['predictions'] = final_outputs.argmax(axis=1).cpu().numpy()\n",
    "test['predictions']"
   ],
   "id": "8094b0b44576fb7d",
   "outputs": [
    {
     "data": {
      "text/plain": [
       "0       5\n",
       "1       5\n",
       "2       1\n",
       "3       4\n",
       "4       5\n",
       "       ..\n",
       "2687    4\n",
       "2688    5\n",
       "2689    4\n",
       "2690    5\n",
       "2691    4\n",
       "Name: predictions, Length: 2692, dtype: int64"
      ]
     },
     "execution_count": 23,
     "metadata": {},
     "output_type": "execute_result"
    }
   ],
   "execution_count": 23
  },
  {
   "metadata": {
    "ExecuteTime": {
     "end_time": "2024-08-18T08:57:42.900503Z",
     "start_time": "2024-08-18T08:57:42.895144Z"
    }
   },
   "cell_type": "code",
   "source": "test['predictions'].value_counts()",
   "id": "1b92f771705c4a04",
   "outputs": [
    {
     "data": {
      "text/plain": [
       "predictions\n",
       "5    961\n",
       "4    622\n",
       "1    489\n",
       "0    438\n",
       "3    176\n",
       "2      6\n",
       "Name: count, dtype: int64"
      ]
     },
     "execution_count": 24,
     "metadata": {},
     "output_type": "execute_result"
    }
   ],
   "execution_count": 24
  },
  {
   "metadata": {
    "ExecuteTime": {
     "end_time": "2024-08-18T08:57:42.906339Z",
     "start_time": "2024-08-18T08:57:42.901010Z"
    }
   },
   "cell_type": "code",
   "source": [
    "test['predictions']=test['predictions'].apply(lambda x: id_to_label_mapping[x])\n",
    "test['predictions']"
   ],
   "id": "bbe8f678fb1aa34",
   "outputs": [
    {
     "data": {
      "text/plain": [
       "0       C2\n",
       "1       C2\n",
       "2       A2\n",
       "3       C1\n",
       "4       C2\n",
       "        ..\n",
       "2687    C1\n",
       "2688    C2\n",
       "2689    C1\n",
       "2690    C2\n",
       "2691    C1\n",
       "Name: predictions, Length: 2692, dtype: object"
      ]
     },
     "execution_count": 25,
     "metadata": {},
     "output_type": "execute_result"
    }
   ],
   "execution_count": 25
  },
  {
   "metadata": {
    "ExecuteTime": {
     "end_time": "2024-08-18T08:57:45.291892Z",
     "start_time": "2024-08-18T08:57:42.906339Z"
    }
   },
   "cell_type": "code",
   "source": [
    "from matplotlib import pyplot as plt\n",
    "from sklearn.metrics import ConfusionMatrixDisplay\n",
    "import numpy as np\n",
    "\n",
    "y_pred = test['predictions']\n",
    "\n",
    "y_true = test['level']\n",
    "\n",
    "def map_func(x):\n",
    "    return label_to_id_mapping.get(x, -1)\n",
    "\n",
    "y_true_mapped = np.vectorize(map_func)(y_true)\n",
    "y_pred_mapped = np.vectorize(map_func)(y_pred)\n",
    "\n",
    "# Calculate accuracy\n",
    "accuracy = accuracy_score(y_true=y_true_mapped, y_pred=y_pred_mapped)\n",
    "print(f'Accuracy: {accuracy:.3f}')\n",
    "\n",
    "# Generate accuracy report\n",
    "unique_labels = set(y_true_mapped)  # Get unique labels\n",
    "\n",
    "for label in unique_labels:\n",
    "    label_indices = [i for i in range(len(y_true_mapped)) if y_true_mapped[i] == label]\n",
    "    label_y_true = [y_true_mapped[i] for i in label_indices]\n",
    "    label_y_pred = [y_pred_mapped[i] for i in label_indices]\n",
    "    label_accuracy = accuracy_score(label_y_true, label_y_pred)\n",
    "    print(f'Accuracy for label {cefr_levels[label]}: {label_accuracy:.3f}')\n",
    "\n",
    "class_report = classification_report(y_true=y_true_mapped, y_pred=y_pred_mapped, target_names=cefr_levels, labels=list(range(len(cefr_levels))))\n",
    "class_report_dict = classification_report(y_true=y_true_mapped, y_pred=y_pred_mapped, target_names=cefr_levels, labels=list(range(len(cefr_levels))), output_dict=True)\n",
    "print('\\nClassification Report:')\n",
    "print(class_report)\n",
    "table_data = []\n",
    "\n",
    "for key, value in class_report_dict.items():\n",
    "    if isinstance(value, dict):\n",
    "        table_data.append([\n",
    "            key,\n",
    "            value.get(\"precision\", 0),\n",
    "            value.get(\"recall\", 0),\n",
    "            value.get(\"f1-score\", 0),\n",
    "            value.get(\"support\", 0)\n",
    "        ])\n",
    "    else:\n",
    "        # For accuracy, add precision and recall as 0\n",
    "        table_data.append([\n",
    "            key,\n",
    "            0,\n",
    "            0,\n",
    "            value,\n",
    "            class_report_dict[\"weighted avg\"][\"support\"]\n",
    "        ])\n",
    "\n",
    "# Generate confusion matrix\n",
    "conf_matrix = confusion_matrix(y_true=y_true_mapped, y_pred=y_pred_mapped, labels=list(range(len(cefr_levels))))\n",
    "disp = ConfusionMatrixDisplay(confusion_matrix=conf_matrix,\n",
    "                              display_labels=cefr_levels)\n",
    "disp.plot()\n",
    "\n",
    "\n",
    "print('\\nConfusion Matrix:')\n",
    "print(conf_matrix)\n",
    "\n",
    "wandb.log({\n",
    "    \"Class Proportions\": wandb.sklearn.plot_class_proportions(train['level'], test['level'], cefr_levels),\n",
    "    \"Confusion Matrix\": plt,\n",
    "    \"Classification Report\": wandb.Table(data=table_data, columns=['Class/Metric', 'Precision', 'Recall', 'F1-score', 'Support'])\n",
    "})"
   ],
   "id": "f049e8c307daf7f4",
   "outputs": [
    {
     "name": "stdout",
     "output_type": "stream",
     "text": [
      "Accuracy: 0.147\n",
      "Accuracy for label A1: 0.190\n",
      "Accuracy for label A2: 0.183\n",
      "Accuracy for label B1: 0.005\n",
      "Accuracy for label B2: 0.075\n",
      "Accuracy for label C1: 0.380\n",
      "Accuracy for label C2: 0.200\n",
      "\n",
      "Classification Report:\n",
      "              precision    recall  f1-score   support\n",
      "\n",
      "          A1       0.37      0.19      0.25       853\n",
      "          A2       0.28      0.18      0.22       753\n",
      "          B1       0.33      0.00      0.01       442\n",
      "          B2       0.21      0.08      0.11       492\n",
      "          C1       0.09      0.38      0.14       142\n",
      "          C2       0.00      0.20      0.00        10\n",
      "\n",
      "    accuracy                           0.15      2692\n",
      "   macro avg       0.21      0.17      0.12      2692\n",
      "weighted avg       0.29      0.15      0.17      2692\n",
      "\n",
      "\n",
      "Confusion Matrix:\n",
      "[[162 150   0  73 133 335]\n",
      " [103 138   0  44 132 336]\n",
      " [ 61  87   2  14 128 150]\n",
      " [ 82  86   2  37 168 117]\n",
      " [ 29  28   2   8  54  21]\n",
      " [  1   0   0   0   7   2]]\n"
     ]
    },
    {
     "data": {
      "text/plain": [
       "<Figure size 640x480 with 2 Axes>"
      ],
      "image/png": "[encoded data removed]"
     },
     "metadata": {},
     "output_type": "display_data"
    }
   ],
   "execution_count": 26
  },
  {
   "metadata": {
    "ExecuteTime": {
     "end_time": "2024-08-18T08:57:45.392911Z",
     "start_time": "2024-08-18T08:57:45.293162Z"
    }
   },
   "cell_type": "code",
   "source": [
    "disp.plot()\n",
    "plt.show()"
   ],
   "id": "85054209b445794d",
   "outputs": [
    {
     "data": {
      "text/plain": [
       "<Figure size 640x480 with 2 Axes>"
      ],
      "image/png": "[encoded data removed]"
     },
     "metadata": {},
     "output_type": "display_data"
    }
   ],
   "execution_count": 27
  },
  {
   "metadata": {
    "ExecuteTime": {
     "end_time": "2024-08-18T08:58:01.497154Z",
     "start_time": "2024-08-18T08:57:45.392911Z"
    }
   },
   "cell_type": "code",
   "source": [
    "print(f'Ended prediction at {datetime.datetime.now()}')\n",
    "wandb.finish()"
   ],
   "id": "a544edd10920d116",
   "outputs": [
    {
     "name": "stdout",
     "output_type": "stream",
     "text": [
      "Ended prediction at 2024-08-18 15:57:45.394914\n"
     ]
    },
    {
     "data": {
      "text/plain": [
       "VBox(children=(Label(value='0.034 MB of 0.034 MB uploaded\\r'), FloatProgress(value=1.0, max=1.0)))"
      ],
      "application/vnd.jupyter.widget-view+json": {
       "version_major": 2,
       "version_minor": 0,
       "model_id": "b0227c5bb6e14901bea1610e8ba51ffb"
      }
     },
     "metadata": {},
     "output_type": "display_data"
    },
    {
     "data": {
      "text/plain": [
       "<IPython.core.display.HTML object>"
      ],
      "text/html": [
       " View run <strong style=\"color:#cdcd00\">misty-tree-20</strong> at: <a href='https://wandb.ai/kawishbit-org/wz_experimental/runs/hzsj9tho' target=\"_blank\">https://wandb.ai/kawishbit-org/wz_experimental/runs/hzsj9tho</a><br/> View project at: <a href='https://wandb.ai/kawishbit-org/wz_experimental' target=\"_blank\">https://wandb.ai/kawishbit-org/wz_experimental</a><br/>Synced 6 W&B file(s), 3 media file(s), 4 artifact file(s) and 0 other file(s)"
      ]
     },
     "metadata": {},
     "output_type": "display_data"
    },
    {
     "data": {
      "text/plain": [
       "<IPython.core.display.HTML object>"
      ],
      "text/html": [
       "Find logs at: <code>.\\wandb\\run-20240818_154808-hzsj9tho\\logs</code>"
      ]
     },
     "metadata": {},
     "output_type": "display_data"
    },
    {
     "data": {
      "text/plain": [
       "<IPython.core.display.HTML object>"
      ],
      "text/html": [
       "The new W&B backend becomes opt-out in version 0.18.0; try it out with `wandb.require(\"core\")`! See https://wandb.me/wandb-core for more information."
      ]
     },
     "metadata": {},
     "output_type": "display_data"
    }
   ],
   "execution_count": 28
  },
  {
   "metadata": {
    "ExecuteTime": {
     "end_time": "2024-08-18T08:58:01.500005Z",
     "start_time": "2024-08-18T08:58:01.497154Z"
    }
   },
   "cell_type": "code",
   "source": "",
   "id": "37789377d6a903ad",
   "outputs": [],
   "execution_count": 28
  }
 ],
 "metadata": {
  "kernelspec": {
   "display_name": "Python 3",
   "language": "python",
   "name": "python3"
  },
  "language_info": {
   "codemirror_mode": {
    "name": "ipython",
    "version": 2
   },
   "file_extension": ".py",
   "mimetype": "text/x-python",
   "name": "python",
   "nbconvert_exporter": "python",
   "pygments_lexer": "ipython2",
   "version": "2.7.6"
  }
 },
 "nbformat": 4,
 "nbformat_minor": 5
}
