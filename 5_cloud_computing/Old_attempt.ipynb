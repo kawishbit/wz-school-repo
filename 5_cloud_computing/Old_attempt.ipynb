{
 "cells": [
  {
   "cell_type": "markdown",
   "id": "3ab735f4",
   "metadata": {
    "id": "3ab735f4"
   },
   "source": [
    "Install required packages"
   ]
  },
  {
   "cell_type": "code",
   "execution_count": 1,
   "id": "7c9d6785",
   "metadata": {
    "id": "7c9d6785"
   },
   "outputs": [],
   "source": [
    "!pip install Sastrawi --quiet\n",
    "!pip install tensorflow --quiet"
   ]
  },
  {
   "cell_type": "markdown",
   "id": "855937c3",
   "metadata": {
    "id": "855937c3"
   },
   "source": [
    "Import required packages"
   ]
  },
  {
   "cell_type": "code",
   "execution_count": 2,
   "id": "faef0d3a",
   "metadata": {
    "id": "faef0d3a"
   },
   "outputs": [],
   "source": [
    "import numpy as np\n",
    "import pandas as pd\n",
    "\n",
    "from sklearn.feature_extraction.text import CountVectorizer\n",
    "from keras_preprocessing.text import Tokenizer\n",
    "from keras_preprocessing.sequence import pad_sequences\n",
    "from keras.models import Sequential\n",
    "from keras.layers import Dense, Embedding, LSTM, SpatialDropout1D\n",
    "from sklearn.model_selection import train_test_split\n",
    "from keras.utils.np_utils import to_categorical\n",
    "from sklearn.utils import resample\n",
    "from sklearn.utils import shuffle\n",
    "from sklearn.metrics import confusion_matrix,classification_report\n",
    "import re, io, json\n",
    "from tensorflow.keras.callbacks import ModelCheckpoint   # save model\n",
    "from tensorflow.keras.models import load_model   # load saved model\n",
    "from tensorflow.keras.preprocessing.text import tokenizer_from_json\n",
    "\n",
    "# Indonesian Stemmer\n",
    "from Sastrawi.Stemmer.StemmerFactory import StemmerFactory"
   ]
  },
  {
   "cell_type": "markdown",
   "id": "913e5256",
   "metadata": {
    "id": "913e5256"
   },
   "source": [
    "Load dataset"
   ]
  },
  {
   "cell_type": "code",
   "execution_count": 3,
   "id": "30affba3",
   "metadata": {
    "colab": {
     "base_uri": "https://localhost:8080/",
     "height": 363
    },
    "id": "30affba3",
    "outputId": "2a51932d-91f2-4431-ec19-33ddbbe3ac54"
   },
   "outputs": [
    {
     "data": {
      "text/html": [
       "<div>\n",
       "<style scoped>\n",
       "    .dataframe tbody tr th:only-of-type {\n",
       "        vertical-align: middle;\n",
       "    }\n",
       "\n",
       "    .dataframe tbody tr th {\n",
       "        vertical-align: top;\n",
       "    }\n",
       "\n",
       "    .dataframe thead th {\n",
       "        text-align: right;\n",
       "    }\n",
       "</style>\n",
       "<table border=\"1\" class=\"dataframe\">\n",
       "  <thead>\n",
       "    <tr style=\"text-align: right;\">\n",
       "      <th></th>\n",
       "      <th>Tweet</th>\n",
       "      <th>HS</th>\n",
       "    </tr>\n",
       "  </thead>\n",
       "  <tbody>\n",
       "    <tr>\n",
       "      <th>0</th>\n",
       "      <td>di saat cowok usaha lacak perhati gue kamu lan...</td>\n",
       "      <td>1</td>\n",
       "    </tr>\n",
       "    <tr>\n",
       "      <th>1</th>\n",
       "      <td>telat beri tau kamu edan sarap gue gaul cigax ...</td>\n",
       "      <td>0</td>\n",
       "    </tr>\n",
       "    <tr>\n",
       "      <th>2</th>\n",
       "      <td>kadang pikir percaya tuhan jatuh kali kali kad...</td>\n",
       "      <td>0</td>\n",
       "    </tr>\n",
       "    <tr>\n",
       "      <th>3</th>\n",
       "      <td>tau mata sipit lihat</td>\n",
       "      <td>0</td>\n",
       "    </tr>\n",
       "    <tr>\n",
       "      <th>4</th>\n",
       "      <td>kaum cebong kafir sudah lihat dongok dungu haha</td>\n",
       "      <td>1</td>\n",
       "    </tr>\n",
       "    <tr>\n",
       "      <th>5</th>\n",
       "      <td>bani taplak dan kawan kawan</td>\n",
       "      <td>1</td>\n",
       "    </tr>\n",
       "    <tr>\n",
       "      <th>6</th>\n",
       "      <td>deklarasi pilih kepala daerah aman anti hoaks ...</td>\n",
       "      <td>0</td>\n",
       "    </tr>\n",
       "    <tr>\n",
       "      <th>7</th>\n",
       "      <td>gue saja selesai watch aldnoah zero kampret me...</td>\n",
       "      <td>0</td>\n",
       "    </tr>\n",
       "    <tr>\n",
       "      <th>8</th>\n",
       "      <td>admin belanja po baik nak makan ais kepal milo...</td>\n",
       "      <td>0</td>\n",
       "    </tr>\n",
       "    <tr>\n",
       "      <th>9</th>\n",
       "      <td>enak kalau sambil ngewe</td>\n",
       "      <td>0</td>\n",
       "    </tr>\n",
       "  </tbody>\n",
       "</table>\n",
       "</div>"
      ],
      "text/plain": [
       "                                               Tweet  HS\n",
       "0  di saat cowok usaha lacak perhati gue kamu lan...   1\n",
       "1  telat beri tau kamu edan sarap gue gaul cigax ...   0\n",
       "2  kadang pikir percaya tuhan jatuh kali kali kad...   0\n",
       "3                               tau mata sipit lihat   0\n",
       "4    kaum cebong kafir sudah lihat dongok dungu haha   1\n",
       "5                        bani taplak dan kawan kawan   1\n",
       "6  deklarasi pilih kepala daerah aman anti hoaks ...   0\n",
       "7  gue saja selesai watch aldnoah zero kampret me...   0\n",
       "8  admin belanja po baik nak makan ais kepal milo...   0\n",
       "9                            enak kalau sambil ngewe   0"
      ]
     },
     "execution_count": 3,
     "metadata": {},
     "output_type": "execute_result"
    }
   ],
   "source": [
    "data = pd.read_csv('./clean_dataset.csv')\n",
    "data.dropna(subset=['Tweet'], how='all', inplace=True)\n",
    "data = data[['Tweet','HS']]\n",
    "data.head(10)"
   ]
  },
  {
   "cell_type": "markdown",
   "id": "aab48935",
   "metadata": {
    "id": "aab48935"
   },
   "source": [
    "Check dataset details"
   ]
  },
  {
   "cell_type": "code",
   "execution_count": 4,
   "id": "5801e504",
   "metadata": {
    "colab": {
     "base_uri": "https://localhost:8080/"
    },
    "id": "5801e504",
    "outputId": "0de17907-9ecd-4f1f-d446-417c066f91fa"
   },
   "outputs": [
    {
     "name": "stdout",
     "output_type": "stream",
     "text": [
      "13116 Total\n",
      "5553 Hate speech\n",
      "7563 Non hate speech\n"
     ]
    }
   ],
   "source": [
    "print(data['HS'].size, \"Total\")\n",
    "print(np.sum(data['HS'] == 1), \"Hate speech\")\n",
    "print(np.sum(data['HS'] == 0), \"Non hate speech\")"
   ]
  },
  {
   "cell_type": "markdown",
   "id": "b712979e",
   "metadata": {
    "id": "b712979e"
   },
   "source": [
    "## Preprocessing"
   ]
  },
  {
   "cell_type": "markdown",
   "id": "6797f442",
   "metadata": {
    "id": "6797f442"
   },
   "source": [
    "### Make everything lowercase"
   ]
  },
  {
   "cell_type": "code",
   "execution_count": 5,
   "id": "8ae18735",
   "metadata": {
    "colab": {
     "base_uri": "https://localhost:8080/"
    },
    "id": "8ae18735",
    "outputId": "e881281d-1a06-486a-a341-4de9cf0a8eaf"
   },
   "outputs": [
    {
     "data": {
      "text/plain": [
       "0    di saat cowok usaha lacak perhati gue kamu lan...\n",
       "1    telat beri tau kamu edan sarap gue gaul cigax ...\n",
       "2    kadang pikir percaya tuhan jatuh kali kali kad...\n",
       "3                                 tau mata sipit lihat\n",
       "4      kaum cebong kafir sudah lihat dongok dungu haha\n",
       "5                          bani taplak dan kawan kawan\n",
       "6    deklarasi pilih kepala daerah aman anti hoaks ...\n",
       "7    gue saja selesai watch aldnoah zero kampret me...\n",
       "8    admin belanja po baik nak makan ais kepal milo...\n",
       "9                              enak kalau sambil ngewe\n",
       "Name: Tweet, dtype: object"
      ]
     },
     "execution_count": 5,
     "metadata": {},
     "output_type": "execute_result"
    }
   ],
   "source": [
    "data['Tweet'] = data['Tweet'].apply(lambda tweet: tweet.lower())\n",
    "data['Tweet'].head(10)"
   ]
  },
  {
   "cell_type": "markdown",
   "id": "9ef6f3b5",
   "metadata": {
    "id": "9ef6f3b5"
   },
   "source": [
    "### Remove known unwanted words"
   ]
  },
  {
   "cell_type": "code",
   "execution_count": 6,
   "id": "29e2e06b",
   "metadata": {
    "colab": {
     "base_uri": "https://localhost:8080/"
    },
    "id": "29e2e06b",
    "outputId": "eff294ca-4149-4764-b0a8-84c5d7e1cfbe"
   },
   "outputs": [
    {
     "data": {
      "text/plain": [
       "0    di saat cowok usaha lacak perhati gue kamu lan...\n",
       "1    telat beri tau kamu edan sarap gue gaul cigax ...\n",
       "2    kadang pikir percaya tuhan jatuh kali kali kad...\n",
       "3                                 tau mata sipit lihat\n",
       "4      kaum cebong kafir sudah lihat dongok dungu haha\n",
       "5                          bani taplak dan kawan kawan\n",
       "6    deklarasi pilih kepala daerah aman anti hoaks ...\n",
       "7    gue saja selesai watch aldnoah zero kampret me...\n",
       "8    admin belanja po baik nak makan ais kepal milo...\n",
       "9                              enak kalau sambil ngewe\n",
       "Name: Tweet, dtype: object"
      ]
     },
     "execution_count": 6,
     "metadata": {},
     "output_type": "execute_result"
    }
   ],
   "source": [
    "# Remove \\n \\t \\r\n",
    "data['Tweet'].replace(to_replace=[r\"\\\\t|\\\\n|\\\\r\", \"\\t|\\n|\\r\"], value=[\" \",\" \"], regex=True, inplace=True)\n",
    "\n",
    "# Remove RT\n",
    "data['Tweet'] = data['Tweet'].str.replace('rt', '')\n",
    "\n",
    "# Remove USER\n",
    "data['Tweet'] = data['Tweet'].str.replace('user', '')\n",
    "\n",
    "# Remove URL\n",
    "data['Tweet'] = data['Tweet'].str.replace('url', '')\n",
    "\n",
    "data['Tweet'].head(10)"
   ]
  },
  {
   "cell_type": "markdown",
   "id": "5b58a872",
   "metadata": {
    "id": "5b58a872"
   },
   "source": [
    "### Remove non-alphabets characters"
   ]
  },
  {
   "cell_type": "code",
   "execution_count": 7,
   "id": "0164bfb9",
   "metadata": {
    "colab": {
     "base_uri": "https://localhost:8080/"
    },
    "id": "0164bfb9",
    "outputId": "0e6ddffc-d715-479f-b6fe-cb8065f8923c"
   },
   "outputs": [
    {
     "data": {
      "text/plain": [
       "0    di saat cowok usaha lacak perhati gue kamu lan...\n",
       "1    telat beri tau kamu edan sarap gue gaul cigax ...\n",
       "2    kadang pikir percaya tuhan jatuh kali kali kad...\n",
       "3                                 tau mata sipit lihat\n",
       "4      kaum cebong kafir sudah lihat dongok dungu haha\n",
       "5                          bani taplak dan kawan kawan\n",
       "6    deklarasi pilih kepala daerah aman anti hoaks ...\n",
       "7    gue saja selesai watch aldnoah zero kampret me...\n",
       "8    admin belanja po baik nak makan ais kepal milo...\n",
       "9                              enak kalau sambil ngewe\n",
       "Name: Tweet, dtype: object"
      ]
     },
     "execution_count": 7,
     "metadata": {},
     "output_type": "execute_result"
    }
   ],
   "source": [
    "data['Tweet'] = data['Tweet'].replace({'[^A-Za-z]': ' '}, regex = True)\n",
    "data['Tweet'].head(10)"
   ]
  },
  {
   "cell_type": "markdown",
   "id": "0c0fb0e7",
   "metadata": {
    "id": "0c0fb0e7"
   },
   "source": [
    "### Remove words that is less than 3 characters"
   ]
  },
  {
   "cell_type": "code",
   "execution_count": 8,
   "id": "163e58bb",
   "metadata": {
    "colab": {
     "base_uri": "https://localhost:8080/"
    },
    "id": "163e58bb",
    "outputId": "5ec17a08-1317-4bb5-ad09-d1a25b5df0d8"
   },
   "outputs": [
    {
     "name": "stdout",
     "output_type": "stream",
     "text": [
      "0    saat cowok usaha lacak perhati gue kamu lantas...\n",
      "1    telat beri tau kamu edan sarap gue gaul cigax ...\n",
      "2    kadang pikir percaya tuhan jatuh kali kali kad...\n",
      "3                                 tau mata sipit lihat\n",
      "4      kaum cebong kafir sudah lihat dongok dungu haha\n",
      "5                          bani taplak dan kawan kawan\n",
      "6    deklarasi pilih kepala daerah aman anti hoaks ...\n",
      "7    gue saja selesai watch aldnoah zero kampret me...\n",
      "8    admin belanja baik nak makan ais kepal milo ai...\n",
      "9                              enak kalau sambil ngewe\n",
      "Name: Tweet, dtype: object\n"
     ]
    }
   ],
   "source": [
    "data['Tweet'] = data['Tweet'].apply(lambda tweet: ' '.join([w for w in tweet.split() if len(w) > 2]))\n",
    "print(data['Tweet'].head(10));"
   ]
  },
  {
   "cell_type": "markdown",
   "id": "f4bf0fc4",
   "metadata": {
    "id": "f4bf0fc4"
   },
   "source": [
    "### Reformat texts"
   ]
  },
  {
   "cell_type": "code",
   "execution_count": 9,
   "id": "8ab714e9",
   "metadata": {
    "colab": {
     "base_uri": "https://localhost:8080/"
    },
    "id": "8ab714e9",
    "outputId": "7985cb1a-24fb-4945-b43b-913d8e3d8059"
   },
   "outputs": [
    {
     "data": {
      "text/plain": [
       "0    saat cowok usaha lacak perhati gue kamu lantas...\n",
       "1    telat beri tau kamu edan sarap gue gaul cigax ...\n",
       "2    kadang pikir percaya tuhan jatuh kali kali kad...\n",
       "3                                 tau mata sipit lihat\n",
       "4      kaum cebong kafir sudah lihat dongok dungu haha\n",
       "5                          bani taplak dan kawan kawan\n",
       "6    deklarasi pilih kepala daerah aman anti hoaks ...\n",
       "7    gue saja selesai watch aldnoah zero kampret me...\n",
       "8    admin belanja baik nak makan ais kepal milo ai...\n",
       "9                              enak kalau sambil ngewe\n",
       "Name: Tweet, dtype: object"
      ]
     },
     "execution_count": 9,
     "metadata": {},
     "output_type": "execute_result"
    }
   ],
   "source": [
    "# Remove excess spaces\n",
    "data['Tweet'] = data['Tweet'].apply(lambda tweet: ' '.join(tweet.split()))\n",
    "\n",
    "# Trim\n",
    "data['Tweet'] = data['Tweet'].str.strip()\n",
    "\n",
    "data['Tweet'].head(10)"
   ]
  },
  {
   "cell_type": "markdown",
   "id": "6569dd46",
   "metadata": {
    "id": "6569dd46"
   },
   "source": [
    "### Load and replace alay words"
   ]
  },
  {
   "cell_type": "code",
   "execution_count": 10,
   "id": "f59e29fb",
   "metadata": {
    "colab": {
     "base_uri": "https://localhost:8080/",
     "height": 363
    },
    "id": "f59e29fb",
    "outputId": "1030a267-e158-4559-8e04-cc3ce2df51a3"
   },
   "outputs": [
    {
     "data": {
      "text/html": [
       "<div>\n",
       "<style scoped>\n",
       "    .dataframe tbody tr th:only-of-type {\n",
       "        vertical-align: middle;\n",
       "    }\n",
       "\n",
       "    .dataframe tbody tr th {\n",
       "        vertical-align: top;\n",
       "    }\n",
       "\n",
       "    .dataframe thead th {\n",
       "        text-align: right;\n",
       "    }\n",
       "</style>\n",
       "<table border=\"1\" class=\"dataframe\">\n",
       "  <thead>\n",
       "    <tr style=\"text-align: right;\">\n",
       "      <th></th>\n",
       "      <th>alay</th>\n",
       "      <th>replacement</th>\n",
       "    </tr>\n",
       "  </thead>\n",
       "  <tbody>\n",
       "    <tr>\n",
       "      <th>0</th>\n",
       "      <td>anakjakartaasikasik</td>\n",
       "      <td>anak jakarta asyik asyik</td>\n",
       "    </tr>\n",
       "    <tr>\n",
       "      <th>1</th>\n",
       "      <td>pakcikdahtua</td>\n",
       "      <td>pak cik sudah tua</td>\n",
       "    </tr>\n",
       "    <tr>\n",
       "      <th>2</th>\n",
       "      <td>pakcikmudalagi</td>\n",
       "      <td>pak cik muda lagi</td>\n",
       "    </tr>\n",
       "    <tr>\n",
       "      <th>3</th>\n",
       "      <td>t3tapjokowi</td>\n",
       "      <td>tetap jokowi</td>\n",
       "    </tr>\n",
       "    <tr>\n",
       "      <th>4</th>\n",
       "      <td>3x</td>\n",
       "      <td>tiga kali</td>\n",
       "    </tr>\n",
       "    <tr>\n",
       "      <th>5</th>\n",
       "      <td>aamiin</td>\n",
       "      <td>amin</td>\n",
       "    </tr>\n",
       "    <tr>\n",
       "      <th>6</th>\n",
       "      <td>aamiinn</td>\n",
       "      <td>amin</td>\n",
       "    </tr>\n",
       "    <tr>\n",
       "      <th>7</th>\n",
       "      <td>aamin</td>\n",
       "      <td>amin</td>\n",
       "    </tr>\n",
       "    <tr>\n",
       "      <th>8</th>\n",
       "      <td>aammiin</td>\n",
       "      <td>amin</td>\n",
       "    </tr>\n",
       "    <tr>\n",
       "      <th>9</th>\n",
       "      <td>abis</td>\n",
       "      <td>habis</td>\n",
       "    </tr>\n",
       "  </tbody>\n",
       "</table>\n",
       "</div>"
      ],
      "text/plain": [
       "                  alay               replacement\n",
       "0  anakjakartaasikasik  anak jakarta asyik asyik\n",
       "1         pakcikdahtua         pak cik sudah tua\n",
       "2       pakcikmudalagi         pak cik muda lagi\n",
       "3          t3tapjokowi              tetap jokowi\n",
       "4                   3x                 tiga kali\n",
       "5               aamiin                      amin\n",
       "6              aamiinn                      amin\n",
       "7                aamin                      amin\n",
       "8              aammiin                      amin\n",
       "9                 abis                     habis"
      ]
     },
     "execution_count": 10,
     "metadata": {},
     "output_type": "execute_result"
    }
   ],
   "source": [
    "alay_words = pd.read_csv('./alay.csv')\n",
    "alay_words.head(10)"
   ]
  },
  {
   "cell_type": "code",
   "execution_count": 11,
   "id": "069429f5",
   "metadata": {
    "colab": {
     "base_uri": "https://localhost:8080/"
    },
    "id": "069429f5",
    "outputId": "fffe8dbc-8d34-414c-e498-b18ffe1f2124"
   },
   "outputs": [
    {
     "data": {
      "text/plain": [
       "0    saat cowok usaha lacak perhati gue kamu lantas...\n",
       "1    telat beri tau kamu edan sarap gue gaul cigax ...\n",
       "2    kadang pikir percaya tuhan jatuh kali kali kad...\n",
       "3                                 tau mata sipit lihat\n",
       "4       kaum cebong kafir sudah lihat dungu dungu haha\n",
       "5                          bani taplak dan kawan kawan\n",
       "6    deklarasi pilih kepala daerah aman anti hoaks ...\n",
       "7    gue saja selesai watch aldnoah zero kampret me...\n",
       "8    admin belanja baik nak makan ais kepal milo ai...\n",
       "9                              enak kalau sambil ngewe\n",
       "Name: Tweet, dtype: object"
      ]
     },
     "execution_count": 11,
     "metadata": {},
     "output_type": "execute_result"
    }
   ],
   "source": [
    "def replace_alay(tweet):\n",
    "    output = []\n",
    "    words = tweet.split()\n",
    "    for word in words:\n",
    "      row = alay_words[alay_words.alay == word]\n",
    "      if row.empty:\n",
    "        output.append(word)\n",
    "      else:\n",
    "        output.append(str(row['replacement'].values[0]))\n",
    "\n",
    "    return ' '.join(output)\n",
    "\n",
    "data['Tweet'] = data['Tweet'].apply(lambda tweet: replace_alay(tweet))\n",
    "data['Tweet'].head(10)"
   ]
  },
  {
   "cell_type": "markdown",
   "id": "600cb7f5",
   "metadata": {
    "id": "600cb7f5"
   },
   "source": [
    "### Load and remove stopwords"
   ]
  },
  {
   "cell_type": "code",
   "execution_count": 12,
   "id": "56df2671",
   "metadata": {
    "colab": {
     "base_uri": "https://localhost:8080/"
    },
    "id": "56df2671",
    "outputId": "bb4e2b57-fd8d-41de-97b0-db906922488b"
   },
   "outputs": [
    {
     "data": {
      "text/plain": [
       "['adalah',\n",
       " 'adanya',\n",
       " 'adapun',\n",
       " 'agak',\n",
       " 'agaknya',\n",
       " 'agar',\n",
       " 'akan',\n",
       " 'akankah',\n",
       " 'akhir',\n",
       " 'akhiri']"
      ]
     },
     "execution_count": 12,
     "metadata": {},
     "output_type": "execute_result"
    }
   ],
   "source": [
    "indonesian_stopwords = pd.read_csv('./stopwords.txt')\n",
    "indonesian_stopwords = indonesian_stopwords.iloc[:, 0].values.tolist()\n",
    "indonesian_stopwords[:10]"
   ]
  },
  {
   "cell_type": "code",
   "execution_count": 13,
   "id": "61b09821",
   "metadata": {
    "colab": {
     "base_uri": "https://localhost:8080/"
    },
    "id": "61b09821",
    "outputId": "c0a5897e-f5a1-4233-b25e-1fe00da24657"
   },
   "outputs": [
    {
     "data": {
      "text/plain": [
       "0    cowok usaha lacak perhati gue lantas remeh per...\n",
       "1    telat tau edan sarap gue gaul cigax jifla cal ...\n",
       "2    kadang pikir percaya tuhan jatuh kali kali kad...\n",
       "3                                 tau mata sipit lihat\n",
       "4             kaum cebong kafir lihat dungu dungu haha\n",
       "5                              bani taplak kawan kawan\n",
       "6    deklarasi pilih kepala daerah aman anti hoaks ...\n",
       "7    gue selesai watch aldnoah zero kampret karakte...\n",
       "8    admin belanja nak makan ais kepal milo ais kep...\n",
       "9                                           enak ngewe\n",
       "Name: Tweet, dtype: object"
      ]
     },
     "execution_count": 13,
     "metadata": {},
     "output_type": "execute_result"
    }
   ],
   "source": [
    "def remove_stopwords(tweet):\n",
    "    output = []\n",
    "    words = tweet.split()\n",
    "    for word in words:\n",
    "      if word not in indonesian_stopwords:\n",
    "        output.append(word)\n",
    "\n",
    "    return ' '.join(output)\n",
    "\n",
    "data['Tweet'] = data['Tweet'].apply(lambda tweet: remove_stopwords(tweet))\n",
    "\n",
    "data['Tweet'].head(10)"
   ]
  },
  {
   "cell_type": "code",
   "execution_count": 14,
   "id": "97bc9be8",
   "metadata": {
    "colab": {
     "base_uri": "https://localhost:8080/",
     "height": 35
    },
    "id": "97bc9be8",
    "outputId": "b9a35301-16fe-4c99-d9c5-3ac14e0dccdf"
   },
   "outputs": [
    {
     "data": {
      "text/plain": [
       "'tau mata sipit lihat'"
      ]
     },
     "execution_count": 14,
     "metadata": {},
     "output_type": "execute_result"
    }
   ],
   "source": [
    "data['Tweet'][3]"
   ]
  },
  {
   "cell_type": "markdown",
   "id": "a9caf38d",
   "metadata": {
    "id": "a9caf38d"
   },
   "source": [
    "### Stem using Indonesian stemmer"
   ]
  },
  {
   "cell_type": "markdown",
   "id": "419362d8",
   "metadata": {
    "id": "419362d8"
   },
   "source": [
    "It took quite some time, measured to be around 1 hour and 40 minutes, so be patient"
   ]
  },
  {
   "cell_type": "code",
   "execution_count": 15,
   "id": "60bff5e0",
   "metadata": {
    "id": "60bff5e0"
   },
   "outputs": [],
   "source": [
    "stemmer_factory = StemmerFactory()\n",
    "stemmer = stemmer_factory.create_stemmer()\n",
    "\n",
    "data['Tweet'] = data['Tweet'].apply(lambda tweet: stemmer.stem(tweet))"
   ]
  },
  {
   "cell_type": "code",
   "execution_count": 16,
   "id": "4936af4b",
   "metadata": {
    "colab": {
     "base_uri": "https://localhost:8080/"
    },
    "id": "4936af4b",
    "outputId": "f28efe62-5eb8-4dee-c2dc-460989097c9d"
   },
   "outputs": [
    {
     "data": {
      "text/plain": [
       "0    cowok usaha lacak perhati gue lantas remeh per...\n",
       "1    telat tau edan sarap gue gaul cigax jifla cal ...\n",
       "2    kadang pikir percaya tuhan jatuh kali kali kad...\n",
       "3                                 tau mata sipit lihat\n",
       "4             kaum cebong kafir lihat dungu dungu haha\n",
       "5                              bani taplak kawan kawan\n",
       "6    deklarasi pilih kepala daerah aman anti hoaks ...\n",
       "7    gue selesai watch aldnoah zero kampret karakte...\n",
       "8    admin belanja nak makan ais kepal milo ais kep...\n",
       "9                                           enak ngewe\n",
       "Name: Tweet, dtype: object"
      ]
     },
     "execution_count": 16,
     "metadata": {},
     "output_type": "execute_result"
    }
   ],
   "source": [
    "data['Tweet'].head(10)"
   ]
  },
  {
   "cell_type": "markdown",
   "id": "fdc92113",
   "metadata": {
    "id": "fdc92113"
   },
   "source": [
    "### Tokenize the words"
   ]
  },
  {
   "cell_type": "code",
   "execution_count": 17,
   "id": "73d0505d",
   "metadata": {
    "colab": {
     "base_uri": "https://localhost:8080/"
    },
    "id": "73d0505d",
    "outputId": "211e9243-00b3-4691-ee19-d6f38ed83c7f"
   },
   "outputs": [
    {
     "data": {
      "text/plain": [
       "array([[   0,    0,    0,    0,    0,    0,    0,    0,    0,    0,    0,\n",
       "           0,    0,    0,    0,    0,    0,    0,    0,    0,    0,    0,\n",
       "           0,    0,    0,    0,    0,  283,  132,  518,    7, 1804,  518,\n",
       "           7,   68,  113,  283,  175],\n",
       "       [   0,    0,    0,    0,    0,    0,    0,    0,    0,    0,    0,\n",
       "           0,    0,    0,    0,    0,    0,    0,    0,    0,    0,    0,\n",
       "           0,    0,    0,    0,    0,    0,    0,    0,    0,    0, 1694,\n",
       "          34,  390,  327,    7, 1493],\n",
       "       [   0,    0,    0,    0,    0,    0,    0,    0,    0,    0,    0,\n",
       "           0,    0,    0,    0,    0,    0,    0,    0,  519,   78,  119,\n",
       "         162,  435,  104,  104,  519,  162,  179,    4,  413,  853, 1494,\n",
       "         879,    9,   27,   29, 1592]])"
      ]
     },
     "execution_count": 17,
     "metadata": {},
     "output_type": "execute_result"
    }
   ],
   "source": [
    "data.dropna()\n",
    "\n",
    "max_features = 2000\n",
    "tokenizer = Tokenizer(lower=False, num_words=max_features, split=' ')\n",
    "tokenizer.fit_on_texts(data['Tweet'].values)\n",
    "\n",
    "X = tokenizer.texts_to_sequences(data['Tweet'].values)\n",
    "X = pad_sequences(X)\n",
    "\n",
    "X[:3]"
   ]
  },
  {
   "cell_type": "markdown",
   "id": "19abf457",
   "metadata": {
    "id": "19abf457"
   },
   "source": [
    "### Split dataset for training and testing"
   ]
  },
  {
   "cell_type": "code",
   "execution_count": 18,
   "id": "61f110f1",
   "metadata": {
    "colab": {
     "base_uri": "https://localhost:8080/"
    },
    "id": "61f110f1",
    "outputId": "7ee8e503-4e1f-42d3-da0d-fb128986d968"
   },
   "outputs": [
    {
     "name": "stdout",
     "output_type": "stream",
     "text": [
      "(10492, 38) (10492,)\n",
      "(2624, 38) (2624,)\n"
     ]
    }
   ],
   "source": [
    "Y = data['HS']\n",
    "X_train, X_test, Y_train, Y_test = train_test_split(X, Y, test_size = 0.20, random_state = 42)\n",
    "print(X_train.shape, Y_train.shape)\n",
    "print(X_test.shape, Y_test.shape)"
   ]
  },
  {
   "cell_type": "markdown",
   "id": "4742450f",
   "metadata": {
    "id": "4742450f"
   },
   "source": [
    "## Training\n",
    "### Initialize SVM network"
   ]
  },
  {
   "cell_type": "code",
   "execution_count": null,
   "id": "a0141e63",
   "metadata": {
    "colab": {
     "base_uri": "https://localhost:8080/"
    },
    "id": "a0141e63",
    "outputId": "610d48d6-a8b0-41bb-ade2-51aa964dae13"
   },
   "outputs": [
    {
     "name": "stdout",
     "output_type": "stream",
     "text": [
      "[LibSVM]"
     ]
    }
   ],
   "source": [
    "from sklearn import svm\n",
    "# classify using support vector classifier\n",
    "model = svm.SVC(kernel = 'linear', verbose=True, cache_size=1000, probability=True)\n",
    "model.fit(X_train, Y_train)\n",
    "\n",
    "y_pred = model.predict(X_test)\n",
    "model.score(X_test, y_test)\n",
    "\n",
    "print(classification_report(y_test, y_pred))"
   ]
  },
  {
   "cell_type": "markdown",
   "id": "50b8d48b",
   "metadata": {
    "id": "50b8d48b"
   },
   "source": [
    "## Testing"
   ]
  },
  {
   "cell_type": "markdown",
   "id": "eb9b46cd",
   "metadata": {
    "id": "eb9b46cd"
   },
   "source": [
    "### Load saved model"
   ]
  },
  {
   "cell_type": "code",
   "execution_count": null,
   "id": "b1ca33e4",
   "metadata": {
    "id": "b1ca33e4"
   },
   "outputs": [],
   "source": [
    "loaded_model = load_model(model_path)"
   ]
  },
  {
   "cell_type": "markdown",
   "id": "636a329c",
   "metadata": {
    "id": "636a329c"
   },
   "source": [
    "### Accept input\n"
   ]
  },
  {
   "cell_type": "code",
   "execution_count": null,
   "id": "d6f13cae",
   "metadata": {
    "id": "d6f13cae"
   },
   "outputs": [],
   "source": [
    "tweet = \"itu cebong ngapain demo di monas, mending tiduran dirumah\""
   ]
  },
  {
   "cell_type": "markdown",
   "id": "18f7c540",
   "metadata": {
    "id": "18f7c540"
   },
   "source": [
    "### Run preprocessing on the input\n"
   ]
  },
  {
   "cell_type": "code",
   "execution_count": null,
   "id": "95497671",
   "metadata": {
    "colab": {
     "base_uri": "https://localhost:8080/",
     "height": 35
    },
    "id": "95497671",
    "outputId": "7a34b7b2-611b-41e9-bb88-490c6a080e2c"
   },
   "outputs": [],
   "source": [
    "tweet = replace_alay(tweet)\n",
    "tweet = remove_stopwords(tweet)\n",
    "tweet = stemmer.stem(tweet)\n",
    "\n",
    "tweet"
   ]
  },
  {
   "cell_type": "markdown",
   "id": "8484a81f",
   "metadata": {
    "id": "8484a81f"
   },
   "source": [
    "### Tokenize inputs"
   ]
  },
  {
   "cell_type": "code",
   "execution_count": null,
   "id": "17384ac5",
   "metadata": {
    "colab": {
     "base_uri": "https://localhost:8080/"
    },
    "id": "17384ac5",
    "outputId": "04c4b1b6-a3c2-463c-9f0e-c388f718048d"
   },
   "outputs": [],
   "source": [
    "tokenized_word = tokenizer.texts_to_sequences([tweet])\n",
    "tokenized_word = pad_sequences(tokenized_word, maxlen=38, dtype='int32', value=0)\n",
    "\n",
    "print(tokenized_word)"
   ]
  },
  {
   "cell_type": "markdown",
   "id": "4e76c3ba",
   "metadata": {
    "id": "4e76c3ba"
   },
   "source": [
    "### Run prediction"
   ]
  },
  {
   "cell_type": "code",
   "execution_count": null,
   "id": "69717cc1",
   "metadata": {
    "colab": {
     "base_uri": "https://localhost:8080/",
     "height": 641
    },
    "id": "69717cc1",
    "outputId": "bdabca7a-bf09-4280-f17e-74ea9968ffb8"
   },
   "outputs": [],
   "source": [
    "sentiment = loaded_model.predict(tokenized_word,batch_size=1)[0]\n",
    "\n",
    "if(np.argmax(sentiment) == 0):\n",
    "    print(\"Not a hate speech,\", sentiment[0], 'sure')\n",
    "elif (np.argmax(sentiment) == 1):\n",
    "    print(\"Hate speech,\", sentiment[1], 'sure')"
   ]
  }
 ],
 "metadata": {
  "colab": {
   "provenance": [],
   "toc_visible": true
  },
  "kernelspec": {
   "display_name": "Python 3 (ipykernel)",
   "language": "python",
   "name": "python3"
  },
  "language_info": {
   "codemirror_mode": {
    "name": "ipython",
    "version": 3
   },
   "file_extension": ".py",
   "mimetype": "text/x-python",
   "name": "python",
   "nbconvert_exporter": "python",
   "pygments_lexer": "ipython3",
   "version": "3.9.12"
  }
 },
 "nbformat": 4,
 "nbformat_minor": 5
}
